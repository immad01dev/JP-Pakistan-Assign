{
  "cells": [
    {
      "cell_type": "markdown",
      "id": "ce724d93-8f13-4293-9c50-ef0514adab8c",
      "metadata": {
        "id": "ce724d93-8f13-4293-9c50-ef0514adab8c"
      },
      "source": [
        "Question 1:\n",
        "\n",
        "Write a Python program that prints numbers from 1 to 20, but skips all even numbers.\n",
        "\n",
        "Use a while loop.\n",
        "\n",
        "Use the continue statement\n",
        "\n",
        "The numbers should be printed on the same line separated by spaces.\n",
        "\n",
        "Expected Output:\n",
        "\n",
        "1 3 5 7 9 11 13 15 17 19"
      ]
    },
    {
      "cell_type": "code",
      "source": [
        "# Initializing starting point\n",
        "start = 0\n",
        "\n",
        "# Starting While Loop\n",
        "while start <= 20:\n",
        "  start += 1\n",
        "\n",
        "  # Checking Condition for Even Numbers\n",
        "  if (start % 2 == 0):\n",
        "    continue\n",
        "\n",
        "  # Displaying Results\n",
        "  print(start,end=' ')\n"
      ],
      "metadata": {
        "colab": {
          "base_uri": "https://localhost:8080/"
        },
        "id": "vNV3aulZh0ou",
        "outputId": "654b6093-7133-47c0-9bb6-cf7d1263ad51"
      },
      "id": "vNV3aulZh0ou",
      "execution_count": 13,
      "outputs": [
        {
          "output_type": "stream",
          "name": "stdout",
          "text": [
            "1 3 5 7 9 11 13 15 17 19 21 "
          ]
        }
      ]
    },
    {
      "cell_type": "markdown",
      "id": "b431d0dc-6c6b-4dca-9fc5-f3bba2af76af",
      "metadata": {
        "id": "b431d0dc-6c6b-4dca-9fc5-f3bba2af76af"
      },
      "source": [
        "Question 2:\n",
        "\n",
        "Write a Python program that keeps asking the user to enter numbers and prints them.\n",
        "\n",
        "The program should stop the loop if the user enters a negative number.\n",
        "\n",
        "Use a while True loop with a break statement\n",
        "\n",
        "Expected Output:\n",
        "\n",
        "Enter a number (negative to stop): 5\n",
        "\n",
        "You entered: 5\n",
        "\n",
        "Enter a number (negative to stop): 10\n",
        "\n",
        "You entered: 10\n",
        "\n",
        "Enter a number (negative to stop): -3\n",
        "\n",
        "Negative number entered. Loop stopped!\n"
      ]
    },
    {
      "cell_type": "code",
      "source": [
        "# Starting Loop to Ask User\n",
        "while True:\n",
        "  user_inp = int(input('Enter a number (negative to stop): '))\n",
        "\n",
        "  # Checking Negative Number Condition\n",
        "  if user_inp < 0:\n",
        "    print('Negative number entered. Loop stopped!')\n",
        "    break"
      ],
      "metadata": {
        "colab": {
          "base_uri": "https://localhost:8080/"
        },
        "id": "wIofuA8fmFJO",
        "outputId": "f00f003a-58c7-4c56-f775-46d923ad8934"
      },
      "id": "wIofuA8fmFJO",
      "execution_count": 14,
      "outputs": [
        {
          "output_type": "stream",
          "name": "stdout",
          "text": [
            "Enter a number (negative to stop): 3\n",
            "Enter a number (negative to stop): -3\n",
            "Negative number entered. Loop stopped!\n"
          ]
        }
      ]
    },
    {
      "cell_type": "markdown",
      "id": "67b2a90d-44f0-4966-b239-e969c9757206",
      "metadata": {
        "id": "67b2a90d-44f0-4966-b239-e969c9757206"
      },
      "source": [
        "Question 3:\n",
        "\n",
        "\n",
        "Write a Python program that asks the user to guess a secret word.\n",
        "\n",
        "Keep asking until the user enters the correct word (\"python\").\n",
        "\n",
        "When guessed correctly, print \"🎉 You guessed it!\"\n",
        "\n",
        "Expected Output:\n",
        "\n",
        "Guess the word: java\n",
        "\n",
        "Guess the word: ruby\n",
        "\n",
        "Guess the word: python\n",
        "\n",
        "🎉 You guessed it!"
      ]
    },
    {
      "cell_type": "code",
      "source": [
        "# Initializing Correct Word\n",
        "correct_word = 'python'\n",
        "\n",
        "# Starting Loop to Guess Secret Word\n",
        "while True:\n",
        "  user_inp = input('Guess the word: ')\n",
        "\n",
        "  # Checking Negative Number Condition\n",
        "  if user_inp == correct_word:\n",
        "    print('🎉You guessed it!')\n",
        "    break"
      ],
      "metadata": {
        "colab": {
          "base_uri": "https://localhost:8080/"
        },
        "id": "WLYCKon6nECF",
        "outputId": "32f7cd43-61ce-4a92-a293-07bc4ac5df5b"
      },
      "id": "WLYCKon6nECF",
      "execution_count": 15,
      "outputs": [
        {
          "output_type": "stream",
          "name": "stdout",
          "text": [
            "Guess the word: java\n",
            "Guess the word: ruby\n",
            "Guess the word: python\n",
            "🎉You guessed it!\n"
          ]
        }
      ]
    },
    {
      "cell_type": "markdown",
      "id": "ea22d55c-4267-4244-bda3-e93d8988216f",
      "metadata": {
        "id": "ea22d55c-4267-4244-bda3-e93d8988216f"
      },
      "source": [
        "Question 4:\n",
        "\n",
        "orders = [\n",
        "    {\"order_id\": 1, \"customer\": \"Ali\", \"items\": [120, 80, 50]},\n",
        "    {\"order_id\": 2, \"customer\": \"Sara\", \"items\": [200, 150]},\n",
        "    {\"order_id\": 3, \"customer\": \"Raheel\", \"items\": [90, 60, 40, 30]},\n",
        "    {\"order_id\": 4, \"customer\": \"Naveed\", \"items\": [300]},\n",
        "]\n",
        "\n",
        "You are given a list of e-commerce orders. Each order has:\n",
        "\n",
        "an order ID\n",
        "\n",
        "a customer name\n",
        "\n",
        "a list of items with prices\n",
        "\n",
        "Write a Python program to print all items for each order using nested while loops.\n",
        "\n",
        "Expected Output:\n",
        "\n",
        "Order ID: 1 Customer: Ali\n",
        "\n",
        " Item Price: 120\n",
        "\n",
        " Item Price: 80\n",
        "\n",
        " Item Price: 50\n",
        "\n",
        "Order ID: 2 Customer: Sara\n",
        "\n",
        " Item Price: 200\n",
        "\n",
        " Item Price: 150\n",
        "\n",
        "Order ID: 3 Customer: Raheel\n",
        "\n",
        " Item Price: 90\n",
        "\n",
        " Item Price: 60\n",
        "\n",
        " Item Price: 40\n",
        "\n",
        " Item Price: 30\n",
        "\n",
        "Order ID: 4 Customer: Naveed\n",
        "\n",
        " Item Price: 300"
      ]
    },
    {
      "cell_type": "code",
      "source": [
        "# Initializing Starting point\n",
        "i = 0\n",
        "\n",
        "# Initializing E-commerce Lists\n",
        "orders = [ {\"order_id\": 1, \"customer\": \"Ali\", \"items\": [120, 80, 50]}, {\"order_id\": 2, \"customer\": \"Sara\", \"items\": [200, 150]}, {\"order_id\": 3, \"customer\": \"Raheel\", \"items\": [90, 60, 40, 30]}, {\"order_id\": 4, \"customer\": \"Naveed\", \"items\": [300]}, ]\n",
        "\n",
        "# Using nested while loops to print data\n",
        "while i < len(orders):\n",
        "\n",
        "  # Displaying Customers Name\n",
        "  customer_name = orders[i]['customer']\n",
        "  print(f'Order ID: {customer_name}')\n",
        "\n",
        "  # Reset Counter for Each Customer\n",
        "  j = 0\n",
        "\n",
        "  # Iterating Items for Each Customer\n",
        "  while j < len(orders[i]['items']):\n",
        "    customer_items = orders[i]['items'][j]\n",
        "    print(f'Item Price: {customer_items}')\n",
        "    j += 1\n",
        "\n",
        "  # Next Line for Clear Formatting\n",
        "  print('\\n')\n",
        "\n",
        "  # Increment i for next customer\n",
        "  i += 1\n",
        "\n",
        "\n",
        "\n",
        "\n"
      ],
      "metadata": {
        "colab": {
          "base_uri": "https://localhost:8080/"
        },
        "id": "z6LrBO7Gnhg9",
        "outputId": "1d3f8305-e56d-41b1-85c9-8088e107fa33"
      },
      "id": "z6LrBO7Gnhg9",
      "execution_count": 6,
      "outputs": [
        {
          "output_type": "stream",
          "name": "stdout",
          "text": [
            "Order ID: Ali\n",
            "Item Price: 120\n",
            "Item Price: 80\n",
            "Item Price: 50\n",
            "\n",
            "\n",
            "Order ID: Sara\n",
            "Item Price: 200\n",
            "Item Price: 150\n",
            "\n",
            "\n",
            "Order ID: Raheel\n",
            "Item Price: 90\n",
            "Item Price: 60\n",
            "Item Price: 40\n",
            "Item Price: 30\n",
            "\n",
            "\n",
            "Order ID: Naveed\n",
            "Item Price: 300\n",
            "\n",
            "\n"
          ]
        }
      ]
    },
    {
      "cell_type": "markdown",
      "id": "f7c2bbae-9a3d-454a-9ae7-bf81a77f66a1",
      "metadata": {
        "id": "f7c2bbae-9a3d-454a-9ae7-bf81a77f66a1"
      },
      "source": [
        "Question 5:\n",
        "\n",
        "Print total amount spent by each customer (Using nested while loop)\n",
        "\n",
        "orders = [\n",
        "    {\"order_id\": 1, \"customer\": \"Ali\", \"items\": [120, 80, 50]},\n",
        "    {\"order_id\": 2, \"customer\": \"Sara\", \"items\": [200, 150]},\n",
        "    {\"order_id\": 3, \"customer\": \"Raheel\", \"items\": [90, 60, 40, 30]},\n",
        "    {\"order_id\": 4, \"customer\": \"Naveed\", \"items\": [300]},\n",
        "]\n",
        "\n",
        "Expected Output:\n",
        "\n",
        "Ali spent total: 250\n",
        "\n",
        "Sara spent total: 350\n",
        "\n",
        "Raheel spent total: 220\n",
        "\n",
        "Naveed spent total: 300"
      ]
    },
    {
      "cell_type": "code",
      "source": [
        "# Initializing Starting Point for Customers Name\n",
        "i = 0\n",
        "\n",
        "# Intializing customer name and ammount\n",
        "customer_name = ''\n",
        "total_sum = 0\n",
        "\n",
        "# Intializing Customers List\n",
        "orders = [ {\"order_id\": 1, \"customer\": \"Ali\", \"items\": [120, 80, 50]}, {\"order_id\": 2, \"customer\": \"Sara\", \"items\": [200, 150]}, {\"order_id\": 3, \"customer\": \"Raheel\", \"items\": [90, 60, 40, 30]}, {\"order_id\": 4, \"customer\": \"Naveed\", \"items\": [300]}, ]\n",
        "\n",
        "# Loop for Customer Name:\n",
        "while i < len(orders):\n",
        "\n",
        "  # Reset for Each Customer\n",
        "  j = 0\n",
        "\n",
        "  # Loop for Calculating Total Amount\n",
        "  while j < len(orders[i]['items']):\n",
        "\n",
        "    # Putting values in customer_name and calculating total sum\n",
        "    customer_name = orders[i]['customer']\n",
        "    total_sum = sum(orders[i]['items'])\n",
        "    j += 1\n",
        "\n",
        "  # Displaying Customer name with their total amount\n",
        "  print(f'{customer_name} spent total : {total_sum}')\n",
        "\n",
        "  # Incrementing i for next customer\n",
        "  i += 1\n",
        ""
      ],
      "metadata": {
        "colab": {
          "base_uri": "https://localhost:8080/"
        },
        "id": "mg7I4cfOsBpV",
        "outputId": "18e3dc79-9edf-45d5-cf64-aa8a369e70a0"
      },
      "id": "mg7I4cfOsBpV",
      "execution_count": 13,
      "outputs": [
        {
          "output_type": "stream",
          "name": "stdout",
          "text": [
            "Ali spent total : 250\n",
            "Sara spent total : 350\n",
            "Raheel spent total : 220\n",
            "Naveed spent total : 300\n"
          ]
        }
      ]
    },
    {
      "cell_type": "markdown",
      "id": "9df85479-cd55-4385-90aa-19b0ecc04bcc",
      "metadata": {
        "id": "9df85479-cd55-4385-90aa-19b0ecc04bcc"
      },
      "source": [
        "Question 6:\n",
        "\n",
        "Print the maximum item price for each order. (Using nested while loop)\n",
        "\n",
        "orders = [ {\"order_id\": 1, \"customer\": \"Ali\", \"items\": [120, 80, 50]}, {\"order_id\": 2, \"customer\": \"Sara\", \"items\": [200, 150]}, {\"order_id\": 3, \"customer\": \"Raheel\", \"items\": [90, 60, 40, 30]}, {\"order_id\": 4, \"customer\": \"Naveed\", \"items\": [300]}, ]\n",
        "\n",
        "Expected Output:\n",
        "\n",
        "Most expensive item in Order 1 = 120\n",
        "\n",
        "Most expensive item in Order 2 = 200\n",
        "\n",
        "Most expensive item in Order 3 = 90\n",
        "\n",
        "Most expensive item in Order 4 = 300"
      ]
    },
    {
      "cell_type": "code",
      "source": [
        "# Initializing Starting Point for Customers Name\n",
        "i = 0\n",
        "\n",
        "# Intializing customer name, amount and order_id\n",
        "customer_name = ''\n",
        "max_item = 0\n",
        "order_id = 0\n",
        "\n",
        "# Intializing Customers List\n",
        "orders = [ {\"order_id\": 1, \"customer\": \"Ali\", \"items\": [120, 80, 50]}, {\"order_id\": 2, \"customer\": \"Sara\", \"items\": [200, 150]}, {\"order_id\": 3, \"customer\": \"Raheel\", \"items\": [90, 60, 40, 30]}, {\"order_id\": 4, \"customer\": \"Naveed\", \"items\": [300]}, ]\n",
        "\n",
        "# Loop for Customer Name:\n",
        "while i < len(orders):\n",
        "\n",
        "  # Reset for Each Customer\n",
        "  j = 0\n",
        "\n",
        "  # Loop to Find Max Item\n",
        "  while j < len(orders[i]['items']):\n",
        "\n",
        "    # Putting values in customer_name, his order id and max item\n",
        "    customer_name = orders[i]['customer']\n",
        "    max_item = max(orders[i]['items'])\n",
        "    order_id = orders[i]['order_id']\n",
        "    j += 1\n",
        "\n",
        "  # Displaying Customer name with their total amount\n",
        "  print(f'Most expensive item in Order {order_id} = {max_item}')\n",
        "\n",
        "  # Incrementing i for next customer\n",
        "  i += 1"
      ],
      "metadata": {
        "colab": {
          "base_uri": "https://localhost:8080/"
        },
        "id": "6cxWifvlvskV",
        "outputId": "53e033f4-e931-43d0-aaf4-32800de3c6c1"
      },
      "id": "6cxWifvlvskV",
      "execution_count": 16,
      "outputs": [
        {
          "output_type": "stream",
          "name": "stdout",
          "text": [
            "Most expensive item in Order 1 = 120\n",
            "Most expensive item in Order 2 = 200\n",
            "Most expensive item in Order 3 = 90\n",
            "Most expensive item in Order 4 = 300\n"
          ]
        }
      ]
    },
    {
      "cell_type": "markdown",
      "id": "937da036-8d3c-4ea7-a673-09b22d804e90",
      "metadata": {
        "id": "937da036-8d3c-4ea7-a673-09b22d804e90"
      },
      "source": [
        "Question 7:\n",
        "\n",
        "Write a Python program to create a single list (list comprehension) that contains all numbers from 1 to 50 which are multiples of 5 and 10.\n",
        "\n",
        "Expected Output:\n",
        "\n",
        "Multiples of 5 and 10 from 1 to 50: [10, 20, 30, 40, 50]\n"
      ]
    },
    {
      "cell_type": "markdown",
      "id": "30e197b2-1fde-4ea1-81dd-078ea3c45379",
      "metadata": {
        "id": "30e197b2-1fde-4ea1-81dd-078ea3c45379"
      },
      "source": [
        "Question 8:\n",
        "\n",
        "employees = [\n",
        "    {\"emp_id\": 1, \"name\": \"Ali\", \"dept\": \"Sales\", \"salary\": 50000, \"experience\": 2},\n",
        "    {\"emp_id\": 2, \"name\": \"Sara\", \"dept\": \"IT\", \"salary\": 65000, \"experience\": 5},\n",
        "    {\"emp_id\": 3, \"name\": \"Raheel\", \"dept\": \"HR\", \"salary\": 45000, \"experience\": 1},\n",
        "    {\"emp_id\": 4, \"name\": \"Naveed\", \"dept\": \"Finance\", \"salary\": 70000, \"experience\": 7},\n",
        "    {\"emp_id\": 5, \"name\": \"Ayesha\", \"dept\": \"IT\", \"salary\": 72000, \"experience\": 6},\n",
        "    {\"emp_id\": 6, \"name\": \"Talha\", \"dept\": \"Sales\", \"salary\": 55000, \"experience\": 3},\n",
        "    {\"emp_id\": 7, \"name\": \"Sana\", \"dept\": \"Finance\", \"salary\": 80000, \"experience\": 8},\n",
        "    {\"emp_id\": 8, \"name\": \"Hina\", \"dept\": \"HR\", \"salary\": 48000, \"experience\": 2},\n",
        "]\n",
        "\n",
        "Using List Comprehension\n",
        "\n",
        "Employees with salary > 60,000 AND experience > 5 years\n",
        "\n",
        "Expected Output:\n",
        "['Naveed', 'Ayesha', 'Sana']\n"
      ]
    },
    {
      "cell_type": "code",
      "source": [
        "# Initializng Employees\n",
        "employees = [ {\"emp_id\": 1, \"name\": \"Ali\", \"dept\": \"Sales\", \"salary\": 50000, \"experience\": 2}, {\"emp_id\": 2, \"name\": \"Sara\", \"dept\": \"IT\", \"salary\": 65000, \"experience\": 5}, {\"emp_id\": 3, \"name\": \"Raheel\", \"dept\": \"HR\", \"salary\": 45000, \"experience\": 1}, {\"emp_id\": 4, \"name\": \"Naveed\", \"dept\": \"Finance\", \"salary\": 70000, \"experience\": 7}, {\"emp_id\": 5, \"name\": \"Ayesha\", \"dept\": \"IT\", \"salary\": 72000, \"experience\": 6}, {\"emp_id\": 6, \"name\": \"Talha\", \"dept\": \"Sales\", \"salary\": 55000, \"experience\": 3}, {\"emp_id\": 7, \"name\": \"Sana\", \"dept\": \"Finance\", \"salary\": 80000, \"experience\": 8}, {\"emp_id\": 8, \"name\": \"Hina\", \"dept\": \"HR\", \"salary\": 48000, \"experience\": 2}, ]\n",
        "\n",
        "# Checking Given Condition\n",
        "new_employees = [employees[i]['name'] for i in range(len(employees)) if (employees[i]['salary'] > 60000 and employees[i]['experience'] > 5)]\n",
        "\n",
        "# Displaying Names\n",
        "print(new_employees)"
      ],
      "metadata": {
        "colab": {
          "base_uri": "https://localhost:8080/"
        },
        "id": "hTBMNkoTwqkF",
        "outputId": "9aac7418-f767-45f1-f05c-d70cab6c129c"
      },
      "id": "hTBMNkoTwqkF",
      "execution_count": 19,
      "outputs": [
        {
          "output_type": "stream",
          "name": "stdout",
          "text": [
            "['Naveed', 'Ayesha', 'Sana']\n"
          ]
        }
      ]
    },
    {
      "cell_type": "markdown",
      "id": "272760fb-2e38-40c4-a02a-9ef737ef1480",
      "metadata": {
        "id": "272760fb-2e38-40c4-a02a-9ef737ef1480"
      },
      "source": [
        "Question 9:\n",
        "\n",
        "Employees with NOT HR department\n",
        "\n",
        "Expected Output:\n",
        "['Ali', 'Sara', 'Naveed', 'Ayesha', 'Talha', 'Sana']\n"
      ]
    },
    {
      "cell_type": "code",
      "source": [
        "# Initializng Employees\n",
        "employees = [ {\"emp_id\": 1, \"name\": \"Ali\", \"dept\": \"Sales\", \"salary\": 50000, \"experience\": 2}, {\"emp_id\": 2, \"name\": \"Sara\", \"dept\": \"IT\", \"salary\": 65000, \"experience\": 5}, {\"emp_id\": 3, \"name\": \"Raheel\", \"dept\": \"HR\", \"salary\": 45000, \"experience\": 1}, {\"emp_id\": 4, \"name\": \"Naveed\", \"dept\": \"Finance\", \"salary\": 70000, \"experience\": 7}, {\"emp_id\": 5, \"name\": \"Ayesha\", \"dept\": \"IT\", \"salary\": 72000, \"experience\": 6}, {\"emp_id\": 6, \"name\": \"Talha\", \"dept\": \"Sales\", \"salary\": 55000, \"experience\": 3}, {\"emp_id\": 7, \"name\": \"Sana\", \"dept\": \"Finance\", \"salary\": 80000, \"experience\": 8}, {\"emp_id\": 8, \"name\": \"Hina\", \"dept\": \"HR\", \"salary\": 48000, \"experience\": 2}, ]\n",
        "\n",
        "# Checking Given Condition\n",
        "new_employees = [employees[i]['name'] for i in range(len(employees)) if (employees[i]['dept'] != 'HR')]\n",
        "\n",
        "# Displaying Names\n",
        "print(new_employees)"
      ],
      "metadata": {
        "colab": {
          "base_uri": "https://localhost:8080/"
        },
        "id": "IpC1yEKkyKHl",
        "outputId": "eb79d033-c1c1-4faa-ffcb-9bcf8533ac08"
      },
      "id": "IpC1yEKkyKHl",
      "execution_count": 20,
      "outputs": [
        {
          "output_type": "stream",
          "name": "stdout",
          "text": [
            "['Ali', 'Sara', 'Naveed', 'Ayesha', 'Talha', 'Sana']\n"
          ]
        }
      ]
    },
    {
      "cell_type": "markdown",
      "id": "2edcf529-d79d-4f32-a576-f2cc918a9a47",
      "metadata": {
        "id": "2edcf529-d79d-4f32-a576-f2cc918a9a47"
      },
      "source": [
        "Question 10:\n",
        "\n",
        "Employees NOT in Sales OR experience > 5\n",
        "\n",
        "Expected Output:\n",
        "['Sara', 'Raheel', 'Naveed', 'Ayesha', 'Sana', 'Hina']\n"
      ]
    },
    {
      "cell_type": "code",
      "execution_count": 21,
      "id": "4856cf4c-2141-4698-bb59-0b748b0b7034",
      "metadata": {
        "colab": {
          "base_uri": "https://localhost:8080/"
        },
        "id": "4856cf4c-2141-4698-bb59-0b748b0b7034",
        "outputId": "5cc3c391-2a55-4aeb-bfde-53ad0aafdec2"
      },
      "outputs": [
        {
          "output_type": "stream",
          "name": "stdout",
          "text": [
            "['Sara', 'Raheel', 'Naveed', 'Ayesha', 'Sana', 'Hina']\n"
          ]
        }
      ],
      "source": [
        "# Initializng Employees\n",
        "employees = [ {\"emp_id\": 1, \"name\": \"Ali\", \"dept\": \"Sales\", \"salary\": 50000, \"experience\": 2}, {\"emp_id\": 2, \"name\": \"Sara\", \"dept\": \"IT\", \"salary\": 65000, \"experience\": 5}, {\"emp_id\": 3, \"name\": \"Raheel\", \"dept\": \"HR\", \"salary\": 45000, \"experience\": 1}, {\"emp_id\": 4, \"name\": \"Naveed\", \"dept\": \"Finance\", \"salary\": 70000, \"experience\": 7}, {\"emp_id\": 5, \"name\": \"Ayesha\", \"dept\": \"IT\", \"salary\": 72000, \"experience\": 6}, {\"emp_id\": 6, \"name\": \"Talha\", \"dept\": \"Sales\", \"salary\": 55000, \"experience\": 3}, {\"emp_id\": 7, \"name\": \"Sana\", \"dept\": \"Finance\", \"salary\": 80000, \"experience\": 8}, {\"emp_id\": 8, \"name\": \"Hina\", \"dept\": \"HR\", \"salary\": 48000, \"experience\": 2}, ]\n",
        "\n",
        "# Checking Given Condition\n",
        "new_employees = [employees[i]['name'] for i in range(len(employees)) if (employees[i]['dept'] != 'Sales' or employees[i]['experience'] > 5)]\n",
        "\n",
        "# Displaying Names\n",
        "print(new_employees)"
      ]
    }
  ],
  "metadata": {
    "kernelspec": {
      "display_name": "Python 3 (ipykernel)",
      "language": "python",
      "name": "python3"
    },
    "language_info": {
      "codemirror_mode": {
        "name": "ipython",
        "version": 3
      },
      "file_extension": ".py",
      "mimetype": "text/x-python",
      "name": "python",
      "nbconvert_exporter": "python",
      "pygments_lexer": "ipython3",
      "version": "3.12.7"
    },
    "colab": {
      "provenance": [],
      "toc_visible": true
    }
  },
  "nbformat": 4,
  "nbformat_minor": 5
}