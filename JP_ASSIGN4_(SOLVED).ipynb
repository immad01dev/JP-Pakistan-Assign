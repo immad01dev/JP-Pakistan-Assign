{
  "cells": [
    {
      "cell_type": "markdown",
      "id": "f50c28f8-19de-40ce-b6fe-360f1542676f",
      "metadata": {
        "id": "f50c28f8-19de-40ce-b6fe-360f1542676f"
      },
      "source": [
        "1-\n",
        "\n",
        "text = 'hello python world'\n",
        "\n",
        "Replace spaces with underscores in the string (e.g., \"hello python world\" → \"hello_python_world\").\n",
        "\n",
        "Split the modified string (e.g., \"hello_python_world\" → ['hello', 'python', 'world']).\n",
        "\n",
        "Print all two results\n",
        "\n",
        "Hint: Use string methods"
      ]
    },
    {
      "cell_type": "code",
      "source": [
        "# Input Text\n",
        "text = 'hello python world'\n",
        "\n",
        "# Replace spaces with underscore in string\n",
        "replace_space = text.replace(' ','_')\n",
        "\n",
        "# Split List\n",
        "split_text = text.split()\n",
        "\n",
        "# Print Results\n",
        "print(f'Replaced Text : {replace_space}')\n",
        "print(f'Split Text : {split_text}')\n"
      ],
      "metadata": {
        "colab": {
          "base_uri": "https://localhost:8080/"
        },
        "id": "WnJslJQn9ljK",
        "outputId": "c6dff8f7-a9d3-4095-9b9a-86940ccf7416"
      },
      "id": "WnJslJQn9ljK",
      "execution_count": null,
      "outputs": [
        {
          "output_type": "stream",
          "name": "stdout",
          "text": [
            "Replaced Text : hello_python_world\n",
            "Split Text : ['hello', 'python', 'world']\n"
          ]
        }
      ]
    },
    {
      "cell_type": "markdown",
      "id": "f36c5e03-9efc-40f9-833c-23864268173e",
      "metadata": {
        "id": "f36c5e03-9efc-40f9-833c-23864268173e"
      },
      "source": [
        "2- You have a product code that follows the format \"SKU-12345-XYZ\".\n",
        "\n",
        "Find the first position of the dash (-).\n",
        "\n",
        "Count the number of dashes (-) in the product code.\n",
        "\n",
        "Remove the \"SKU-\" prefix and \"-XYZ\" suffix from the product code, Extract the numeric part 12345\n",
        "\n",
        "product_code = \"SKU-12345-XYZ\"\n",
        "\n",
        "Hint: Use String Methods"
      ]
    },
    {
      "cell_type": "code",
      "source": [
        "# Input Code\n",
        "product_code = 'SKU-12345-XYZ'\n",
        "\n",
        "# Find Index of first dash (-)\n",
        "first_dash_index = product_code.find('-')\n",
        "\n",
        "# Count the number of dashes\n",
        "count_dashes = product_code.count('-')\n",
        "\n",
        "# Extract numerical part\n",
        "extract_numbers = product_code[4:9]\n",
        "\n",
        "# Display all results\n",
        "print(f'First Dash Index : {first_dash_index}')\n",
        "print(f'Count Number of Dashes: {count_dashes}')\n",
        "print(f'Extracted Numberical Part : {extract_numbers}')"
      ],
      "metadata": {
        "colab": {
          "base_uri": "https://localhost:8080/"
        },
        "id": "_RUDnlb6_XBY",
        "outputId": "9190dd0c-5810-4bbf-9565-012eb8468020"
      },
      "id": "_RUDnlb6_XBY",
      "execution_count": 14,
      "outputs": [
        {
          "output_type": "stream",
          "name": "stdout",
          "text": [
            "First Dash Index : 3\n",
            "Count Number of Dashes: 2\n",
            "Extracted Numberical Part : 12345\n"
          ]
        }
      ]
    },
    {
      "cell_type": "markdown",
      "id": "0d504f74-c0d6-4890-9580-7890bc1dcb43",
      "metadata": {
        "id": "0d504f74-c0d6-4890-9580-7890bc1dcb43"
      },
      "source": [
        "3- Convert a string to Title Case.\n",
        "\n",
        "text_1 = \"hello world\"\n"
      ]
    },
    {
      "cell_type": "code",
      "source": [
        "# Input text\n",
        "text_1 = 'hello world'\n",
        "\n",
        "# Title Case of Input text\n",
        "title_case = text_1.title()\n",
        "\n",
        "# Display result\n",
        "print(title_case)"
      ],
      "metadata": {
        "colab": {
          "base_uri": "https://localhost:8080/"
        },
        "id": "ctG4StSDyZhL",
        "outputId": "5678a380-7853-4ff4-d0b8-8c44bc6aad14"
      },
      "id": "ctG4StSDyZhL",
      "execution_count": 1,
      "outputs": [
        {
          "output_type": "stream",
          "name": "stdout",
          "text": [
            "Hello World\n"
          ]
        }
      ]
    },
    {
      "cell_type": "markdown",
      "id": "69a00670-3bd2-4380-bfd6-46f87255ef19",
      "metadata": {
        "id": "69a00670-3bd2-4380-bfd6-46f87255ef19"
      },
      "source": [
        "4- Capitalize the first letter of a string.\n",
        "\n",
        "text_2 = \"python programming\""
      ]
    },
    {
      "cell_type": "code",
      "source": [
        "# Input text\n",
        "text_1 = 'python programming'\n",
        "\n",
        "# First Letter Upper Case of Input text\n",
        "upper_case = text_1.capitalize()\n",
        "\n",
        "# Display result\n",
        "print(upper_case)"
      ],
      "metadata": {
        "colab": {
          "base_uri": "https://localhost:8080/"
        },
        "id": "WPXbID1Zyziq",
        "outputId": "952f0f64-8084-4309-d1bd-349635841a48"
      },
      "id": "WPXbID1Zyziq",
      "execution_count": 5,
      "outputs": [
        {
          "output_type": "stream",
          "name": "stdout",
          "text": [
            "Python programming\n"
          ]
        }
      ]
    },
    {
      "cell_type": "markdown",
      "id": "24a9ded0-9b42-4107-bdd3-da5af3dc1414",
      "metadata": {
        "id": "24a9ded0-9b42-4107-bdd3-da5af3dc1414"
      },
      "source": [
        "5- Given the string below, write Python code to:\n",
        "\n",
        "Convert the string so that each word starts with a capital letter\n",
        "\n",
        "Then swap the case of every letter in the resulting string\n",
        "\n",
        "Print the final result.\n",
        "\n",
        "text1 = \"learning PYTHON is AWESOME\""
      ]
    },
    {
      "cell_type": "code",
      "source": [
        "# Input Text\n",
        "text1 = \"learning PYTHON is AWESOME\"\n",
        "\n",
        "# Conv String to Each Word Capital Letter\n",
        "capitalize_string = text1.title()\n",
        "\n",
        "# Swap the case of every letter\n",
        "swap_case = capitalize_string.swapcase()\n",
        "\n",
        "# Final Result\n",
        "final_str = swap_case\n",
        "\n",
        "# Display Result\n",
        "print(final_str)\n"
      ],
      "metadata": {
        "colab": {
          "base_uri": "https://localhost:8080/"
        },
        "id": "-QQl2z3czgFx",
        "outputId": "6dc179f7-cf01-4a64-fe85-d5f5da4b578d"
      },
      "id": "-QQl2z3czgFx",
      "execution_count": 6,
      "outputs": [
        {
          "output_type": "stream",
          "name": "stdout",
          "text": [
            "lEARNING pYTHON iS aWESOME\n"
          ]
        }
      ]
    },
    {
      "cell_type": "markdown",
      "id": "99163be0-8b38-4d39-a4d6-8099e6a6eee7",
      "metadata": {
        "id": "99163be0-8b38-4d39-a4d6-8099e6a6eee7"
      },
      "source": [
        "6-\n",
        "\n",
        "Write Python code to check and print whether the string satisfies the following:\n",
        "\n",
        "Is alphanumeric?\n",
        "\n",
        "Is alphabetic only?\n",
        "\n",
        "text2 = \"HelloWorld123\"\n"
      ]
    },
    {
      "cell_type": "code",
      "source": [
        "# Input string\n",
        "text2 = \"HelloWorld123\"\n",
        "\n",
        "# Checking alphanumeric\n",
        "is_alphanumeric = text2.isalnum()\n",
        "\n",
        "# Checking alphabet\n",
        "is_alphabet = text2.isalpha()\n",
        "\n",
        "# Display Results\n",
        "print(f'Is string alphanumeric : {is_alphanumeric}')\n",
        "print(f'Is string alphabets : {is_alphabet}')\n"
      ],
      "metadata": {
        "colab": {
          "base_uri": "https://localhost:8080/"
        },
        "id": "EPi237_y0XRw",
        "outputId": "a6229c2c-17c2-4379-8fda-ed57e3e13fe1"
      },
      "id": "EPi237_y0XRw",
      "execution_count": 7,
      "outputs": [
        {
          "output_type": "stream",
          "name": "stdout",
          "text": [
            "Is string alphanumeric : True\n",
            "Is string alphabets : False\n"
          ]
        }
      ]
    },
    {
      "cell_type": "markdown",
      "id": "86df8b45-2f46-4da8-b56b-e8967309738d",
      "metadata": {
        "id": "86df8b45-2f46-4da8-b56b-e8967309738d"
      },
      "source": [
        "7-\n",
        "\n",
        "Write Python code to check and print whether the string satisfies the following:\n",
        "\n",
        "Is the string made up of digits only?\n",
        "\n",
        "Is the string all lowercase?\n",
        "\n",
        "text3 = \"helloworld\""
      ]
    },
    {
      "cell_type": "code",
      "source": [
        "# Input string\n",
        "text2 = \"helloworld\"\n",
        "\n",
        "# Checking digit\n",
        "is_digits = text2.isdigit()\n",
        "\n",
        "# Checking lowercases\n",
        "is_lowercases = text2.islower()\n",
        "\n",
        "# Display Results\n",
        "print(f'Is string digits : {is_digits}')\n",
        "print(f'Is string lowercases : {is_lowercases}')\n"
      ],
      "metadata": {
        "colab": {
          "base_uri": "https://localhost:8080/"
        },
        "id": "waNY8q5Z1Qv2",
        "outputId": "7fc360b3-7b64-411d-abcd-686d599af41a"
      },
      "id": "waNY8q5Z1Qv2",
      "execution_count": 8,
      "outputs": [
        {
          "output_type": "stream",
          "name": "stdout",
          "text": [
            "Is string digits : False\n",
            "Is string lowercases : True\n"
          ]
        }
      ]
    },
    {
      "cell_type": "markdown",
      "id": "d5abaffa-dab0-4c62-94a6-7639e02d4753",
      "metadata": {
        "id": "d5abaffa-dab0-4c62-94a6-7639e02d4753"
      },
      "source": [
        "8-\n",
        "\n",
        "Write Python code to check and print whether the string satisfies the following:\n",
        "\n",
        "Is the string all uppercase?\n",
        "\n",
        "Is the string titlecased?\n",
        "\n",
        "text4 = 'Hi We Are Learning Python'"
      ]
    },
    {
      "cell_type": "code",
      "source": [
        "# Input string\n",
        "text2 = \"Hi We Are Learning Python\"\n",
        "\n",
        "# Checking uppercases\n",
        "is_upper = text2.isupper()\n",
        "\n",
        "# Checking lowercases\n",
        "is_titlecase = text2.istitle()\n",
        "\n",
        "# Display Results\n",
        "print(f'Is string uppercases : {is_upper }')\n",
        "print(f'Is string titlecase : {is_titlecase}')"
      ],
      "metadata": {
        "colab": {
          "base_uri": "https://localhost:8080/"
        },
        "id": "ORiSBB8P13fG",
        "outputId": "69563d3c-66b9-44d7-a164-987bbfa87a0f"
      },
      "id": "ORiSBB8P13fG",
      "execution_count": 9,
      "outputs": [
        {
          "output_type": "stream",
          "name": "stdout",
          "text": [
            "Is string uppercases : False\n",
            "Is string titlecase : True\n"
          ]
        }
      ]
    },
    {
      "cell_type": "markdown",
      "id": "005214b5-3e90-488d-9f1a-19fa65b5c830",
      "metadata": {
        "id": "005214b5-3e90-488d-9f1a-19fa65b5c830"
      },
      "source": [
        "9-\n",
        "\n",
        "Write Python code to check and print whether the string:\n",
        "\n",
        "Starts with \"data\"\n",
        "\n",
        "Ends with \".csv\"\n",
        "\n",
        "text5 = \"data_report_2023.csv\"\n"
      ]
    },
    {
      "cell_type": "code",
      "source": [
        "# Input string\n",
        "text2 = \"data_report_2023.csv\"\n",
        "\n",
        "# Checking Condition\n",
        "is_format_true = text2.startswith('data') and text2.endswith('.csv')\n",
        "\n",
        "# Display Results\n",
        "print(f'Is Format True : {is_format_true}')\n"
      ],
      "metadata": {
        "colab": {
          "base_uri": "https://localhost:8080/"
        },
        "id": "Yb27yKjm2LM-",
        "outputId": "8acd043d-a14d-4af3-cf16-538a84b69d1d"
      },
      "id": "Yb27yKjm2LM-",
      "execution_count": 12,
      "outputs": [
        {
          "output_type": "stream",
          "name": "stdout",
          "text": [
            "Is Format True : True\n"
          ]
        }
      ]
    },
    {
      "cell_type": "markdown",
      "id": "80bc03e1-c9aa-4c73-ab02-8065a93f0ce5",
      "metadata": {
        "id": "80bc03e1-c9aa-4c73-ab02-8065a93f0ce5"
      },
      "source": [
        "10-\n",
        "\n",
        "Write Python code to:\n",
        "\n",
        "Count how many times \"banana\" appears in the string.\n",
        "\n",
        "fruit = \"banana bandana banana\"\n"
      ]
    },
    {
      "cell_type": "code",
      "execution_count": 13,
      "id": "13193e78-920a-45db-9c98-c89e8c270ecd",
      "metadata": {
        "id": "13193e78-920a-45db-9c98-c89e8c270ecd",
        "colab": {
          "base_uri": "https://localhost:8080/"
        },
        "outputId": "8d54be8d-db59-49ae-abc4-da1d63ba940d"
      },
      "outputs": [
        {
          "output_type": "stream",
          "name": "stdout",
          "text": [
            "Number of banana : 2\n"
          ]
        }
      ],
      "source": [
        "# Input string\n",
        "text2 = \"banana bandana banana\"\n",
        "\n",
        "# Counting Bananas\n",
        "number_of_bananas = text2.count('banana')\n",
        "\n",
        "# Display Results\n",
        "print(f'Number of banana : {number_of_bananas}')\n"
      ]
    }
  ],
  "metadata": {
    "kernelspec": {
      "display_name": "Python 3 (ipykernel)",
      "language": "python",
      "name": "python3"
    },
    "language_info": {
      "codemirror_mode": {
        "name": "ipython",
        "version": 3
      },
      "file_extension": ".py",
      "mimetype": "text/x-python",
      "name": "python",
      "nbconvert_exporter": "python",
      "pygments_lexer": "ipython3",
      "version": "3.12.7"
    },
    "colab": {
      "provenance": [],
      "toc_visible": true
    }
  },
  "nbformat": 4,
  "nbformat_minor": 5
}