{
  "cells": [
    {
      "cell_type": "markdown",
      "id": "94b44a26-a3e1-40b6-a2f8-5288da630659",
      "metadata": {
        "id": "94b44a26-a3e1-40b6-a2f8-5288da630659"
      },
      "source": [
        "Q1. Write a Python function called add_numbers that takes two numbers as arguments and returns their sum. Then, test the function by calling it with two numbers of your choice.\n"
      ]
    },
    {
      "cell_type": "code",
      "source": [
        "def add_numbers(n1,n2):\n",
        "  '''Take two numbers and return their sum'''\n",
        "  return n1 + n2\n",
        "\n",
        "# Testing Function by giving arguments\n",
        "n1 = 50\n",
        "n2 = 60\n",
        "\n",
        "print(f'Sum of {n1} and {n2} equals to {add_numbers(n1,n2)}')"
      ],
      "metadata": {
        "colab": {
          "base_uri": "https://localhost:8080/"
        },
        "id": "q-_nMDTSWoWN",
        "outputId": "5dd7dc3b-e41b-4c99-e4f0-ca85202747db"
      },
      "id": "q-_nMDTSWoWN",
      "execution_count": 2,
      "outputs": [
        {
          "output_type": "stream",
          "name": "stdout",
          "text": [
            "Sum of 50 and 60 equals to 110\n"
          ]
        }
      ]
    },
    {
      "cell_type": "markdown",
      "id": "2df82858-cc42-45be-b4d8-a6d24073bb06",
      "metadata": {
        "id": "2df82858-cc42-45be-b4d8-a6d24073bb06"
      },
      "source": [
        "Q2. Write a Python function count_vowels that accepts a string and returns the number of vowels a, e, i, o, u, A, E, I, O, U in that string.\n",
        "\n",
        "- Example: 'Welcome'\n",
        "- Output: 3 vowels"
      ]
    },
    {
      "cell_type": "code",
      "source": [
        "def count_vowels(word):\n",
        "  no_of_vowel = 0\n",
        "  '''Take a word and return the number of vowels'''\n",
        "  for i in word:\n",
        "    if i in ('a', 'e', 'i', 'o', 'u', 'A','E', 'I', 'O', 'U'):\n",
        "     no_of_vowel += 1\n",
        "\n",
        "  return no_of_vowel\n",
        "\n",
        "\n",
        "# Testing Function by giving word\n",
        "word = 'Welcome'\n",
        "print(f'No of vowels in {word} are {count_vowels(word)}')\n"
      ],
      "metadata": {
        "colab": {
          "base_uri": "https://localhost:8080/"
        },
        "id": "1BE7R5RhYDY-",
        "outputId": "ec6e7ee9-c965-4944-e077-5bfc9154ad53"
      },
      "id": "1BE7R5RhYDY-",
      "execution_count": 4,
      "outputs": [
        {
          "output_type": "stream",
          "name": "stdout",
          "text": [
            "No of vowels in Welcome are 3\n"
          ]
        }
      ]
    },
    {
      "cell_type": "markdown",
      "id": "14ada7c2-26ff-467b-9856-2bae9d7b673f",
      "metadata": {
        "id": "14ada7c2-26ff-467b-9856-2bae9d7b673f"
      },
      "source": [
        "Q3. Create a Python function called currency_converter() that takes two arguments:\n",
        "\n",
        "- amount: The amount of money to be converted (in USD).\n",
        "- exchange_rate (default is 280): The conversion rate from USD to another currency (e.g., PKR). You can assume the default rate is 1 USD = 280 PKR.\n",
        "-\n",
        "The function should return a message showing how much the given amount is worth in the target currency (PKR).\n",
        "\n",
        "Expected Output:\n",
        "\n",
        "'100 USD is equivalent to 28000 PKR'"
      ]
    },
    {
      "cell_type": "code",
      "source": [
        "def currency_converter(amount,exchange_rate = 280):\n",
        "  '''Taking Currency as input and converting it to another'''\n",
        "  conv_currency = amount * exchange_rate\n",
        "  return conv_currency\n",
        "\n",
        "# Testing Function by giving currency\n",
        "amount = 100\n",
        "print(f'{amount}USD is equivalent to {currency_converter(amount)}PKR')\n"
      ],
      "metadata": {
        "colab": {
          "base_uri": "https://localhost:8080/"
        },
        "id": "-I-hrc7Paro9",
        "outputId": "52a342f1-2f1f-48b8-bebe-89742b34cf76"
      },
      "id": "-I-hrc7Paro9",
      "execution_count": 9,
      "outputs": [
        {
          "output_type": "stream",
          "name": "stdout",
          "text": [
            "100USD is equivalent to 28000PKR\n"
          ]
        }
      ]
    },
    {
      "cell_type": "markdown",
      "id": "2be859c9-23bb-4cff-abee-092295757847",
      "metadata": {
        "id": "2be859c9-23bb-4cff-abee-092295757847"
      },
      "source": [
        "Q4. Write a Python function display_student_info that accepts the following details about a student:\n",
        "\n",
        "- name (Keyword argument): The name of the student.\n",
        "- age (Keyword argument): The age of the student.\n",
        "- grade (Keyword argument): The grade the student is in.\n",
        "- school (Keyword argument): The name of the school the student attends.\n",
        "\n",
        "Expected Output:\n",
        "\n",
        "- Name: John Doe\n",
        "- Age: 15\n",
        "- Grade: 10th\n",
        "- School: Greenwood High"
      ]
    },
    {
      "cell_type": "code",
      "source": [
        "def display_student_info(**kwargs):\n",
        "  '''Taking details as keyword arugments and displaying them'''\n",
        "  print('Name: ' + kwargs['name'])\n",
        "  print('Age: ', kwargs['age'])\n",
        "  print('Grade: ' + kwargs['grade'])\n",
        "  print('School: ' + kwargs['school'])\n",
        "\n",
        "# Testing function with details\n",
        "display_student_info(name='John Doe',age=15,grade='10th',school='Greenwood High')"
      ],
      "metadata": {
        "colab": {
          "base_uri": "https://localhost:8080/"
        },
        "id": "DXFBdAsLe7Ud",
        "outputId": "b405e890-0b80-4d7e-aecc-2bd8586433ba"
      },
      "id": "DXFBdAsLe7Ud",
      "execution_count": 13,
      "outputs": [
        {
          "output_type": "stream",
          "name": "stdout",
          "text": [
            "Name: John Doe\n",
            "Age:  15\n",
            "Grade: 10th\n",
            "School: Greenwood High\n"
          ]
        }
      ]
    },
    {
      "cell_type": "markdown",
      "id": "6fa029c5-095c-463f-b29d-ff8469cbdfea",
      "metadata": {
        "id": "6fa029c5-095c-463f-b29d-ff8469cbdfea"
      },
      "source": [
        "Q5. Write a Python function calculate_price that accepts two positional arguments:\n",
        "\n",
        "- price: The price of a single item.\n",
        "- quantity: The number of items bought.\n",
        "- The function should return the total price by multiplying price and quantity.\n"
      ]
    },
    {
      "cell_type": "code",
      "source": [
        "def calculate_price(args):\n",
        "  '''Taking price and quantity as positional argument and calculate total price'''\n",
        "  total_price = args[0] * args[1]\n",
        "  return total_price\n",
        "\n",
        "# Testing Function wtih details\n",
        "data = (5000,3)\n",
        "print(f'Total Price: {calculate_price(data)}')"
      ],
      "metadata": {
        "colab": {
          "base_uri": "https://localhost:8080/"
        },
        "id": "VWrRHKqfhdnd",
        "outputId": "dda992ef-b9f8-4e73-e9c8-f67b579ff08b"
      },
      "id": "VWrRHKqfhdnd",
      "execution_count": 14,
      "outputs": [
        {
          "output_type": "stream",
          "name": "stdout",
          "text": [
            "Total Price: 15000\n"
          ]
        }
      ]
    },
    {
      "cell_type": "markdown",
      "id": "b0952c84-56d3-478a-8772-ba5434fc4f2f",
      "metadata": {
        "id": "b0952c84-56d3-478a-8772-ba5434fc4f2f"
      },
      "source": [
        "Q6. Write a Python function display_prices that takes a product name and an arbitrary number of keyword arguments representing product prices. The function should display each product and its price.\n",
        "\n",
        "Expected Output:\n",
        "\n",
        "Product: Laptop\n",
        "\n",
        "Amazon: $800\n",
        "\n",
        "eBay: $750\n",
        "\n",
        "Walmart: $780"
      ]
    },
    {
      "cell_type": "code",
      "source": [
        "def display_prices(product_name,**kwargs):\n",
        "  '''Taking product name and arbitart no of keyword arguments and display'''\n",
        "  print(f'Product: {product_name}')\n",
        "  print('Amazon:' +  kwargs['amazon'])\n",
        "  print('eBay:' +  kwargs['ebay'])\n",
        "  print('Walmart:' +  kwargs['walmart'])\n",
        "\n",
        "# Testing Function with Details\n",
        "display_prices('Laptop',amazon='$800',ebay='$750',walmart='$780')"
      ],
      "metadata": {
        "colab": {
          "base_uri": "https://localhost:8080/"
        },
        "id": "4EcOZVifihsN",
        "outputId": "5a0d8eec-bb5f-4dee-bd42-2a126cec9da6"
      },
      "id": "4EcOZVifihsN",
      "execution_count": 17,
      "outputs": [
        {
          "output_type": "stream",
          "name": "stdout",
          "text": [
            "Product: Laptop\n",
            "Amazon:$800\n",
            "eBay:$750\n",
            "Walmart:$780\n"
          ]
        }
      ]
    },
    {
      "cell_type": "markdown",
      "id": "18d9013b-c0e4-4e14-82e7-6c0d03917322",
      "metadata": {
        "id": "18d9013b-c0e4-4e14-82e7-6c0d03917322"
      },
      "source": [
        "Q7. Write a Python function find_max that takes arbitrary number of positional arguments and returns the maximum number."
      ]
    },
    {
      "cell_type": "code",
      "source": [
        "def find_max(args):\n",
        "  '''Taking no of positional arguments and finding maximum number'''\n",
        "  return max(args)\n",
        "\n",
        "# Testing Function with positional arguments\n",
        "numbers = (15,3,10)\n",
        "print(f'Max Number: {find_max(numbers)}')"
      ],
      "metadata": {
        "colab": {
          "base_uri": "https://localhost:8080/"
        },
        "id": "2X4Yj0MgkhKn",
        "outputId": "0d26552f-c474-4d78-eebe-a18fdd55267f"
      },
      "id": "2X4Yj0MgkhKn",
      "execution_count": 18,
      "outputs": [
        {
          "output_type": "stream",
          "name": "stdout",
          "text": [
            "Max Number: 15\n"
          ]
        }
      ]
    },
    {
      "cell_type": "markdown",
      "id": "5d99ddf7-24ba-4bc6-87fe-7ccabcdebeb4",
      "metadata": {
        "id": "5d99ddf7-24ba-4bc6-87fe-7ccabcdebeb4"
      },
      "source": [
        "Q8.\n",
        "\n",
        "Write a Python function calculate_rectangle that accepts the length and width of a rectangle as arguments. Inside this function, create two nested functions:\n",
        "\n",
        "- calculate_area: This function should calculate the area of the rectangle.\n",
        "- calculate_perimeter: This function should calculate the perimeter of the rectangle.\n",
        "- The main function should return both the area and the perimeter of the rectangle.\n",
        "\n",
        "Expected Output:\n",
        "\n",
        "Area: 15\n",
        "\n",
        "Perimeter: 16\n"
      ]
    },
    {
      "cell_type": "code",
      "source": [
        "def calculate_rectange(length, width):\n",
        "    \"\"\"\n",
        "    This function calculates the area and perimeter of a rectangle.\n",
        "    It takes the length and width as inputs, prints the area,\n",
        "    and prints the perimeter.\n",
        "    \"\"\"\n",
        "\n",
        "    def calculate_area(length, width):\n",
        "        area = length * width\n",
        "        print(f'Area: {area}')\n",
        "    calculate_area(length, width)\n",
        "\n",
        "    def calculate_perimeter(length, width):\n",
        "        perimeter = 2 * (length + width)\n",
        "        print(f'Perimeter: {perimeter}')\n",
        "    calculate_perimeter(length, width)\n",
        "\n",
        "\n",
        "calculate_rectange(15, 16)\n"
      ],
      "metadata": {
        "colab": {
          "base_uri": "https://localhost:8080/"
        },
        "id": "122cMeKtlZOF",
        "outputId": "85144ab7-0ee1-455b-d73e-b4743cfc1c59"
      },
      "id": "122cMeKtlZOF",
      "execution_count": 23,
      "outputs": [
        {
          "output_type": "stream",
          "name": "stdout",
          "text": [
            "Area: 240\n",
            "Perimeter: 62\n"
          ]
        }
      ]
    },
    {
      "cell_type": "markdown",
      "id": "a668489b-a207-48a6-904e-fb7c2859e04d",
      "metadata": {
        "id": "a668489b-a207-48a6-904e-fb7c2859e04d"
      },
      "source": [
        "Q9. Write a Python function taxi_fare(distance, rate=100) that calculates the taxi fare.\n",
        "The default rate is 100 PKR per km, but the user can also enter a custom rate.\n",
        "\n",
        "FORMULA: distance * rate\n",
        "\n",
        "Expected Output:\n",
        "\n",
        "- Taxi fare for 10 km = 1000 PKR (using default parameter)\n",
        "- Taxi fare for 15 km = 1800 PKR (custom rate)"
      ]
    },
    {
      "cell_type": "code",
      "source": [
        "def tax_fare(distance,rate=100):\n",
        "  \"\"\"\n",
        "  Calculates the taxi fare using distance and rate (default is 100 per km).\n",
        "  \"\"\"\n",
        "  return distance * rate\n",
        "\n",
        "\n",
        "# Testing Function with details\n",
        "\n",
        "# Using Default Parameter\n",
        "distance = 10\n",
        "print(f'Taxi fare for {distance} km = {tax_fare(distance)} PKR.')\n",
        "\n",
        "\n",
        "# Using Custom Parameter\n",
        "user_inp = int(input(\"Enter Distance (in Km): \"))\n",
        "print(f'Taxi fare for {user_inp} km = {tax_fare(user_inp)} PKR.')\n"
      ],
      "metadata": {
        "colab": {
          "base_uri": "https://localhost:8080/"
        },
        "id": "Ba2rCqXhmsG-",
        "outputId": "5c3038dc-5f9e-4513-b367-ffb4662f9eee"
      },
      "id": "Ba2rCqXhmsG-",
      "execution_count": 25,
      "outputs": [
        {
          "output_type": "stream",
          "name": "stdout",
          "text": [
            "Taxi fare for 10 km = 1000 PKR.\n",
            "Enter Distance (in Km): 15\n",
            "Taxi fare for 15 km = 1500 PKR.\n"
          ]
        }
      ]
    },
    {
      "cell_type": "markdown",
      "id": "ed779581-c1bc-45a5-8971-687391e077a2",
      "metadata": {
        "id": "ed779581-c1bc-45a5-8971-687391e077a2"
      },
      "source": [
        "Q10.\n",
        "\n",
        "Write a Python function shopping_bill(price, quantity, discount=0) that uses nested functions:\n",
        "\n",
        "- An inner function calculate_total() → multiplies price * quantity.\n",
        "- An inner function apply_discount(total) → subtracts discount from total (but never below 0).\n",
        "\n",
        "The outer function should return the final bill amount.\n",
        "\n",
        "Expected Output:\n",
        "\n",
        "- Final Bill = 600 PKR (no discount)\n",
        "- Final Bill = 500 PKR (with discount)"
      ]
    },
    {
      "cell_type": "code",
      "execution_count": 27,
      "id": "ee0ac957-86e2-49bc-adc3-861ac984d055",
      "metadata": {
        "colab": {
          "base_uri": "https://localhost:8080/"
        },
        "id": "ee0ac957-86e2-49bc-adc3-861ac984d055",
        "outputId": "3370fbb7-a2a6-4464-ccb6-3f65ef14e67f"
      },
      "outputs": [
        {
          "output_type": "stream",
          "name": "stdout",
          "text": [
            "Final Bill = 600 PKR (no discount)\n",
            "Final Bill = 500 PKR (with discount)\n"
          ]
        }
      ],
      "source": [
        "def shopping_bill(price,quantity,discount=0):\n",
        "  \"\"\"\n",
        "    Calculates the final shopping bill using price, quantity, and discount.\n",
        "    Uses nested functions to compute total and apply discount.\n",
        "  \"\"\"\n",
        "\n",
        "  def calculate_total():\n",
        "    return price * quantity\n",
        "\n",
        "  def apply_discount(total):\n",
        "    return max(total - discount,0)\n",
        "\n",
        "  total = calculate_total()\n",
        "  finalbill = apply_discount(total)\n",
        "  return finalbill\n",
        "\n",
        "\n",
        "# Testing\n",
        "print(f\"Final Bill = {shopping_bill(200, 3)} PKR (no discount)\")\n",
        "print(f\"Final Bill = {shopping_bill(200, 3, discount=100)} PKR (with discount)\")\n"
      ]
    },
    {
      "cell_type": "code",
      "source": [],
      "metadata": {
        "id": "OecQTmD5p3nO"
      },
      "id": "OecQTmD5p3nO",
      "execution_count": null,
      "outputs": []
    }
  ],
  "metadata": {
    "kernelspec": {
      "display_name": "Python 3 (ipykernel)",
      "language": "python",
      "name": "python3"
    },
    "language_info": {
      "codemirror_mode": {
        "name": "ipython",
        "version": 3
      },
      "file_extension": ".py",
      "mimetype": "text/x-python",
      "name": "python",
      "nbconvert_exporter": "python",
      "pygments_lexer": "ipython3",
      "version": "3.12.7"
    },
    "colab": {
      "provenance": []
    }
  },
  "nbformat": 4,
  "nbformat_minor": 5
}