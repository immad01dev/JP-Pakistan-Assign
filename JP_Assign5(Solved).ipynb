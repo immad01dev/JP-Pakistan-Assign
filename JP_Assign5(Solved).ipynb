{
  "cells": [
    {
      "cell_type": "markdown",
      "id": "02c93f40-2462-4008-89ac-402b9c4e637c",
      "metadata": {
        "id": "02c93f40-2462-4008-89ac-402b9c4e637c"
      },
      "source": [
        "Q1. An e-commerce store stores information about its products in a nested dictionary. The outer dictionary uses product IDs as keys, and the inner dictionary stores product details like name, category, price, and stock quantity. products = { 101: {\"name\": \"Laptop\", \"category\": \"Electronics\", \"price\": 1200, \"stock\": 50}, 102: {\"name\": \"Shirt\", \"category\": \"Apparel\", \"price\": 25, \"stock\": 200}, 103: {\"name\": \"Coffee Maker\", \"category\": \"Home Appliances\", \"price\": 80, \"stock\": 30} }\n",
        "\n",
        "• Increase the stock of the \"Shirt\" product (add 50 more units) using increment/decrement operators\n",
        "\n",
        "• Add a new product (e.g., \"Smartphone\")\n",
        "\n",
        "Expected Output:\n",
        "\n",
        "{101: {'name': 'Laptop', 'category': 'Electronics', 'price': 1200, 'stock': 50}, 102: {'name': 'Shirt', 'category': 'Apparel', 'price': 25, 'stock': 250}, 103: {'name': 'Coffee Maker', 'category': 'Home Appliances', 'price': 80, 'stock': 30}}\n",
        "{101: {'name': 'Laptop', 'category': 'Electronics', 'price': 1200, 'stock': 50}, 102: {'name': 'Shirt', 'category': 'Apparel', 'price': 25, 'stock': 250}, 103: {'name': 'Coffee Maker', 'category': 'Home Appliances', 'price': 80, 'stock': 30}, 104: {'name': 'Smartphone', 'category': 'Electronics', 'price': 800, 'stock': 100}}"
      ]
    },
    {
      "cell_type": "code",
      "source": [
        "# Information of Ecommerce Storage\n",
        "products = {101: {\"name\": \"Laptop\", \"category\": \"Electronics\", \"price\": 1200, \"stock\": 50},\n",
        "            102: {\"name\": \"Shirt\", \"category\": \"Apparel\", \"price\": 25, \"stock\": 200},\n",
        "            103: {\"name\": \"Coffee Maker\", \"category\": \"Home Appliances\", \"price\": 80, \"stock\": 30} }\n",
        "\n",
        "# Increasing Stock of Shirt Product\n",
        "products[102]['stock'] += 50\n",
        "\n",
        "# Adding New Product\n",
        "products.update({104:{'name': 'Smartphone', 'category': 'Electronics', 'price': 800, 'stock': 100}})\n",
        "\n",
        "# Displaying Output\n",
        "products"
      ],
      "metadata": {
        "colab": {
          "base_uri": "https://localhost:8080/"
        },
        "id": "2wYoRA_Yigkd",
        "outputId": "6a2899fd-82e9-4b63-cea5-e37cb3685c5a"
      },
      "id": "2wYoRA_Yigkd",
      "execution_count": null,
      "outputs": [
        {
          "output_type": "execute_result",
          "data": {
            "text/plain": [
              "{101: {'name': 'Laptop',\n",
              "  'category': 'Electronics',\n",
              "  'price': 1200,\n",
              "  'stock': 50},\n",
              " 102: {'name': 'Shirt', 'category': 'Apparel', 'price': 25, 'stock': 250},\n",
              " 103: {'name': 'Coffee Maker',\n",
              "  'category': 'Home Appliances',\n",
              "  'price': 80,\n",
              "  'stock': 30},\n",
              " 104: {'name': 'Smartphone',\n",
              "  'category': 'Electronics',\n",
              "  'price': 800,\n",
              "  'stock': 100}}"
            ]
          },
          "metadata": {},
          "execution_count": 6
        }
      ]
    },
    {
      "cell_type": "markdown",
      "id": "38374151-536f-489a-a18b-c52649f20110",
      "metadata": {
        "id": "38374151-536f-489a-a18b-c52649f20110"
      },
      "source": [
        "Q2. You are given a list that contains some duplicate items. Remove the duplicates by converting the list to a set. Final output should be in list\n",
        "\n",
        "shopping_list = [\"apple\", \"banana\", \"apple\", \"orange\", \"banana\", \"grape\"]\n",
        "\n",
        "Expected Output:\n",
        "['apple', 'grape', 'banana', 'orange']"
      ]
    },
    {
      "cell_type": "code",
      "source": [
        "# Duplicate List\n",
        "shopping_list = [\"apple\", \"banana\", \"apple\", \"orange\", \"banana\", \"grape\"]\n",
        "\n",
        "# Converting to Set\n",
        "new_set = set(shopping_list)\n",
        "\n",
        "# Converting the Unique Set to List\n",
        "unique_list = list(new_set)\n",
        "\n",
        "# Displaying Unique List\n",
        "unique_list\n"
      ],
      "metadata": {
        "colab": {
          "base_uri": "https://localhost:8080/"
        },
        "id": "jOKE7fb6lLFJ",
        "outputId": "d1cac95a-90e6-4088-a763-b31a54af1f75"
      },
      "id": "jOKE7fb6lLFJ",
      "execution_count": null,
      "outputs": [
        {
          "output_type": "execute_result",
          "data": {
            "text/plain": [
              "['banana', 'grape', 'orange', 'apple']"
            ]
          },
          "metadata": {},
          "execution_count": 33
        }
      ]
    },
    {
      "cell_type": "markdown",
      "id": "6024ec14-7264-4e36-bcea-da9e8044e483",
      "metadata": {
        "id": "6024ec14-7264-4e36-bcea-da9e8044e483"
      },
      "source": [
        "Q3. You are managing a list of students enrolled in two different courses. You need to perform various set operations to understand the student enrollment. Task: Create two sets: one for students in \"Course A\" and one for students in \"Course B\". Find the students who are in \"Course A\" but not in \"Course B\" (difference). Find students who are only in one of the two courses (symmetric difference). course_a = {\"John\", \"Alice\", \"Bob\", \"David\"} course_b = {\"Alice\", \"Eve\", \"Charlie\", \"David\"}\n",
        "\n",
        "Using set methods\n",
        "\n",
        "• Find students who are in Course A but not in Course B (difference)\n",
        "\n",
        "• Find students who are only in one of the two courses (symmetric difference)\n",
        "\n",
        "Expected Output:\n",
        "\n",
        "Students in Course A but not in Course B: {'Bob', 'John'}\n",
        "\n",
        "Students only in one of the two courses: {'Eve', 'John', 'Bob', 'Charlie'}\n"
      ]
    },
    {
      "cell_type": "code",
      "source": [
        "# Given Courses List\n",
        "course_a = {\"John\", \"Alice\", \"Bob\", \"David\"}\n",
        "course_b = {\"Alice\", \"Eve\", \"Charlie\", \"David\"}\n",
        "\n",
        "# Finding Students who are not in Course B\n",
        "unenrolled_students = course_a.difference(course_b)\n",
        "\n",
        "# Finding Students only in one of the two courses\n",
        "one_course_student = course_a.symmetric_difference(course_b)\n",
        "\n",
        "# Displaying Results\n",
        "print(f'Students in Course A but not in Course B: {unenrolled_students}')\n",
        "print(f'Students only in one of the two courses: {one_course_student}')\n",
        "\n"
      ],
      "metadata": {
        "colab": {
          "base_uri": "https://localhost:8080/"
        },
        "id": "uzvl5T70nlBl",
        "outputId": "4e3069b2-2e56-48cf-a3c1-eda604569962"
      },
      "id": "uzvl5T70nlBl",
      "execution_count": null,
      "outputs": [
        {
          "output_type": "stream",
          "name": "stdout",
          "text": [
            "Students in Course A but not in Course B: {'John', 'Bob'}\n",
            "Students only in one of the two courses: {'Eve', 'Bob', 'John', 'Charlie'}\n"
          ]
        }
      ]
    },
    {
      "cell_type": "markdown",
      "id": "41da432a-3038-4868-803e-fe40f55c9983",
      "metadata": {
        "id": "41da432a-3038-4868-803e-fe40f55c9983"
      },
      "source": [
        "Q4. Write a Python program to store and display the details of a book.\n",
        "\n",
        "The program should ask the user to input the following information:\n",
        "\n",
        "Title of the book\n",
        "\n",
        "Author’s name\n",
        "\n",
        "Year of publication\n",
        "\n",
        "Price of the booK\n",
        "\n",
        "Store the entered details in a tuple.\n",
        "\n",
        "Finally, display the book details in a proper format as shown below:\n",
        "\n",
        "Expected Output:\n",
        "\n",
        "Title: Harry Potter\n",
        "\n",
        "Author: JK Rowlings\n",
        "\n",
        "Year of Publication: 2000\n",
        "\n",
        "Price: $180.0"
      ]
    },
    {
      "cell_type": "code",
      "source": [
        "# Asking Details from User\n",
        "title_of_book = input('Enter the Title of Book: ')\n",
        "author_name = input(\"Enter Author's Name : \")\n",
        "year_of_publication = int(input('Enter Year of Publication:  '))\n",
        "price_of_book = float(input('Enter the Price of Book: '))\n",
        "\n",
        "# Saving all details in a tuple\n",
        "book_details = (title_of_book,author_name,year_of_publication,price_of_book)\n",
        "\n",
        "# Seprator\n",
        "print('-------------------------------------------------\\n')\n",
        "\n",
        "# Displaying all Books\n",
        "print(f'Title of Book: {title_of_book}')\n",
        "print(f'Author Name: {author_name}')\n",
        "print(f'Year of Publication: {year_of_publication}')\n",
        "print(f'Price of Book: ${price_of_book}')\n",
        "\n"
      ],
      "metadata": {
        "id": "pYCo39jc0t0S",
        "colab": {
          "base_uri": "https://localhost:8080/"
        },
        "outputId": "b838da22-d8c0-418e-81ed-2b4ffce7a074"
      },
      "id": "pYCo39jc0t0S",
      "execution_count": null,
      "outputs": [
        {
          "output_type": "stream",
          "name": "stdout",
          "text": [
            "Enter the Title of Book: Harry Potter\n",
            "Enter Author's Name : JK Rowlings\n",
            "Enter Year of Publication:  2000\n",
            "Enter the Price of Book: 180\n",
            "-------------------------------------------------\n",
            "\n",
            "Title of Book: Harry Potter\n",
            "Author Name: JK Rowlings\n",
            "Year of Publication: 2000\n",
            "Price of Book: $180.0\n"
          ]
        }
      ]
    },
    {
      "cell_type": "markdown",
      "id": "48347612-e98e-4b10-b9e7-69dd64a27cd3",
      "metadata": {
        "id": "48347612-e98e-4b10-b9e7-69dd64a27cd3"
      },
      "source": [
        "Q5. Write a program to check if a user’s chosen subject is available in the list of offered subjects.\n",
        "\n",
        "Instructions:\n",
        "\n",
        "Given a list of subjects, ask the user to input a subject.\n",
        "\n",
        "Display whether the subject is available or not.\n",
        "\n",
        "Expected Output:\n",
        "\n",
        "Enter the subject you are interested in:  art\n",
        "\n",
        "art is available."
      ]
    },
    {
      "cell_type": "code",
      "source": [
        "# List of Available Subjects\n",
        "subjects_list = ['Programming Foundamentals','Calculus','Web Development']\n",
        "\n",
        "# Asking User to Input Subject\n",
        "user_subject = input('Enter the subject name: ').title()\n",
        "\n",
        "# Checking if the user's selected subject is available or not\n",
        "is_subject_available = user_subject in subjects_list\n",
        "\n",
        "if is_subject_available:\n",
        "  print(f'{user_subject} is available')\n",
        "\n",
        "else:\n",
        "  print('Sorry the choosen course is not available right now!')\n"
      ],
      "metadata": {
        "colab": {
          "base_uri": "https://localhost:8080/"
        },
        "id": "LDeFyZ2d9eKU",
        "outputId": "738e25dc-3583-462e-f555-741d19f174e9"
      },
      "id": "LDeFyZ2d9eKU",
      "execution_count": null,
      "outputs": [
        {
          "output_type": "stream",
          "name": "stdout",
          "text": [
            "Enter the subject name: calculus\n",
            "Calculus is available\n"
          ]
        }
      ]
    },
    {
      "cell_type": "markdown",
      "id": "11ffc986-b30a-4cd9-8416-44c6da950d00",
      "metadata": {
        "id": "11ffc986-b30a-4cd9-8416-44c6da950d00"
      },
      "source": [
        "Q6. Write a Python program that asks the user to enter a number.\n",
        "\n",
        "If the number is greater than 0, print \"Positive\".\n",
        "\n",
        "If the number is less than 0, print \"Negative\".\n",
        "\n",
        "If the number is exactly 0, print \"Zero\".\n",
        "\n",
        "Expected Output:\n",
        "\n",
        "Enter a number:  2\n",
        "\n",
        "The number is Positive\n",
        "\n",
        "---\n",
        "\n",
        "Enter a number:  0\n",
        "\n",
        "The number is Zero\n",
        "\n",
        "---\n",
        "\n",
        "Enter a number:  -1\n",
        "\n",
        "The number is Negative"
      ]
    },
    {
      "cell_type": "code",
      "source": [
        "# Asking 3 times\n",
        "for i in range(3):\n",
        "\n",
        "  # Program to Ask User to Enter Number\n",
        "  user_inp = int(input('Enter a number: '))\n",
        "\n",
        "  # Checking Condition # 1\n",
        "  if (user_inp > 0):\n",
        "    print('Positive')\n",
        "\n",
        "  # Checking Condition # 2\n",
        "  elif (user_inp < 0 ):\n",
        "    print('Negative')\n",
        "\n",
        "  # Checking Condition # 3:\n",
        "  elif (user_inp == 0):\n",
        "    print('Zero')\n",
        "\n",
        "  else:\n",
        "    print('Negative')"
      ],
      "metadata": {
        "colab": {
          "base_uri": "https://localhost:8080/"
        },
        "id": "I4xIvTws-pT6",
        "outputId": "fc0c9515-68c7-47a7-b481-ecca51da63a5"
      },
      "id": "I4xIvTws-pT6",
      "execution_count": null,
      "outputs": [
        {
          "output_type": "stream",
          "name": "stdout",
          "text": [
            "Enter a number: 2\n",
            "Positive\n",
            "Enter a number: 0\n",
            "Zero\n",
            "Enter a number: -1\n",
            "Negative\n"
          ]
        }
      ]
    },
    {
      "cell_type": "markdown",
      "id": "2c3a8b52-5013-4999-bdfe-5248b957ad74",
      "metadata": {
        "id": "2c3a8b52-5013-4999-bdfe-5248b957ad74"
      },
      "source": [
        "Q7. Write a Python program that simulates a simple login system.\n",
        "\n",
        "The correct username is 'admin' and the correct password is 'admin@123'\n",
        "\n",
        "The program should take username and password as input from the user.\n",
        "\n",
        "It should check the input and display messages according to the following conditions:\n",
        "\n",
        "- If both username and password are correct → print \"Login Successful\".\n",
        "\n",
        "- If username is wrong but password is correct → print \"Invalid Username\".\n",
        "\n",
        "- If username is correct but password is wrong → print \"Invalid Password\".\n",
        "\n",
        "- If both username and password are wrong → print \"Invalid Username and Password\"."
      ]
    },
    {
      "cell_type": "code",
      "source": [
        "# Asking credientials from user\n",
        "username = input('Enter your username: ')\n",
        "password = input('Enter your password: ')\n",
        "\n",
        "# Checking Login Successful Condition\n",
        "if username == 'admin' and password == 'admin@123':\n",
        "  print('Login Successful')\n",
        "\n",
        "# Checking wrong username but correct password\n",
        "elif username != 'admin' and password == 'admin@123':\n",
        "  print('Invalid Username')\n",
        "\n",
        "# Checking username correct but wrong password\n",
        "elif username == 'admin' and password != 'admin@123':\n",
        "  print('Invalid Password')\n",
        "\n",
        "# If both are wrong\n",
        "else:\n",
        "  print('Invalid Username and Password')"
      ],
      "metadata": {
        "id": "Om4dudFwFavX",
        "colab": {
          "base_uri": "https://localhost:8080/"
        },
        "outputId": "215c30b7-f951-4554-d0d0-6440adea1a6b"
      },
      "id": "Om4dudFwFavX",
      "execution_count": 1,
      "outputs": [
        {
          "output_type": "stream",
          "name": "stdout",
          "text": [
            "Enter your username: admin\n",
            "Enter your password: admin123\n",
            "Invalid Password\n"
          ]
        }
      ]
    },
    {
      "cell_type": "markdown",
      "id": "5c799583-5206-449c-b370-4007ec0382f2",
      "metadata": {
        "id": "5c799583-5206-449c-b370-4007ec0382f2"
      },
      "source": [
        "Q8.\n",
        "\n",
        "student_details = {\n",
        "    \"Ali\": {\"age\": 20, \"grade\": \"A\", \"city\": \"Karachi\"},\n",
        "    \"Sara\": {\"age\": 21, \"grade\": \"B\", \"city\": \"Lahore\"},\n",
        "    \"Omar\": {\"age\": 19, \"grade\": \"A\", \"city\": \"Islamabad\"},\n",
        "    \"Hina\": {\"age\": 22, \"grade\": \"C\", \"city\": \"Faisalabad\"}\n",
        "}\n",
        "\n",
        "- Add a new student using method:\n",
        "  \"Zara\": {\"age\": 20, \"grade\": \"B\", \"city\": \"Multan\"}\n",
        "\n",
        "- Remove a student \"Omer\" using method\n",
        "\n",
        "Expected Output:\n",
        "\n",
        "{'Ali': {'age': 20, 'grade': 'A', 'city': 'Karachi'}, 'Sara': {'age': 21, 'grade': 'B', 'city': 'Lahore'}, 'Hina': {'age': 22, 'grade': 'C', 'city': 'Faisalabad'}, 'Zara': {'age': 20, 'grade': 'B', 'city': 'Multan'}}\n",
        "  "
      ]
    },
    {
      "cell_type": "code",
      "source": [
        "# Students Details\n",
        "student_details = { \"Ali\": {\"age\": 20, \"grade\": \"A\", \"city\": \"Karachi\"}, \"Sara\": {\"age\": 21, \"grade\": \"B\", \"city\": \"Lahore\"}, \"Omar\": {\"age\": 19, \"grade\": \"A\", \"city\": \"Islamabad\"}, \"Hina\": {\"age\": 22, \"grade\": \"C\", \"city\": \"Faisalabad\"} }\n",
        "\n",
        "# Adding new student\n",
        "student_details.update({\"Zara\": {\"age\": 20, \"grade\": \"B\", \"city\": \"Multan\"}})\n",
        "\n",
        "# Removing a student Omer\n",
        "student_details.pop('Omar')\n",
        "\n",
        "# Displaying Final Details\n",
        "student_details"
      ],
      "metadata": {
        "colab": {
          "base_uri": "https://localhost:8080/"
        },
        "id": "8P2Ydcq78Mhe",
        "outputId": "f6ed89bd-88cb-4b5f-bbfb-dbacbc19faf3"
      },
      "id": "8P2Ydcq78Mhe",
      "execution_count": 4,
      "outputs": [
        {
          "output_type": "execute_result",
          "data": {
            "text/plain": [
              "{'Ali': {'age': 20, 'grade': 'A', 'city': 'Karachi'},\n",
              " 'Sara': {'age': 21, 'grade': 'B', 'city': 'Lahore'},\n",
              " 'Hina': {'age': 22, 'grade': 'C', 'city': 'Faisalabad'},\n",
              " 'Zara': {'age': 20, 'grade': 'B', 'city': 'Multan'}}"
            ]
          },
          "metadata": {},
          "execution_count": 4
        }
      ]
    },
    {
      "cell_type": "markdown",
      "id": "f5c1e4f9-1b24-4c6e-b94d-10e4511df8d8",
      "metadata": {
        "id": "f5c1e4f9-1b24-4c6e-b94d-10e4511df8d8"
      },
      "source": [
        "Q9. Write program to check a person’s eligibility for a loan based on age, credit score, and income. This time, the eligibility criteria will be:\n",
        "\n",
        "The person must be 18 years or older. The person must have a credit score of 650 or higher. The person must have an annual income of at least 30000 dollars If the person has a credit score of 700 or higher, they may still be eligible with an income of 25000 dollars or more.\n",
        "\n",
        "Expected Output:\n",
        "\n",
        "Enter your age:  22\n",
        "\n",
        "Enter your credit score:  888\n",
        "\n",
        "Enter your annual income: $ 800000\n",
        "\n",
        "You are eligible for the loan!\n",
        "\n",
        "---\n",
        "\n",
        "Enter your age:  15\n",
        "\n",
        "Enter your credit score:  800\n",
        "\n",
        "Enter your annual income: $ 900000\n",
        "\n",
        "You are not eligible for the loan due to age.\n",
        "\n",
        "---\n",
        "\n",
        "Enter your age:  35\n",
        "\n",
        "Enter your credit score:  99\n",
        "\n",
        "Enter your annual income: $ 900000\n",
        "\n",
        "You are not eligible for the loan due to low credit score."
      ]
    },
    {
      "cell_type": "code",
      "source": [
        "# Asking User Input 3 times\n",
        "for i in range(3):\n",
        "    age = int(input('Enter your age: '))\n",
        "    credit_score = int(input('Enter your credit score: '))\n",
        "    annual_income = int(input('Enter your annual income:$ '))\n",
        "\n",
        "    # Eligible condition\n",
        "    if age >= 18:\n",
        "        if credit_score >= 650 and annual_income >= 30000:\n",
        "            print(\"You are eligible for the loan!\")\n",
        "        elif credit_score >= 700 and annual_income >= 25000:\n",
        "            print(\"You are eligible for the loan!\")\n",
        "        elif credit_score < 650 and annual_income >= 30000:\n",
        "            print(\"You are not eligible for the loan due to credit score.\")\n",
        "        else:\n",
        "            print(\"You are not eligible for the loan.\")  # fallback case\n",
        "\n",
        "    # Ineligible due to age\n",
        "    elif age < 18:\n",
        "        if credit_score >= 650 and annual_income >= 30000:\n",
        "            print(\"You are not eligible for the loan due to age.\")\n",
        "        else:\n",
        "            print(\"You are not eligible for the loan.\")  # fallback case\n",
        "\n",
        "    print(\"-----------------------------------------------------\")\n"
      ],
      "metadata": {
        "colab": {
          "base_uri": "https://localhost:8080/"
        },
        "id": "diqKgm6J9TzE",
        "outputId": "c1ae5704-ecd5-465c-cc1b-03102cafaff5"
      },
      "id": "diqKgm6J9TzE",
      "execution_count": 9,
      "outputs": [
        {
          "output_type": "stream",
          "name": "stdout",
          "text": [
            "Enter your age: 22\n",
            "Enter your credit score: 888\n",
            "Enter your annual income:$ 800000\n",
            "You are eligible for the loan!\n",
            "-----------------------------------------------------\n",
            "Enter your age: 15\n",
            "Enter your credit score: 800\n",
            "Enter your annual income:$ 900000\n",
            "You are not eligible for the loan due to age.\n",
            "-----------------------------------------------------\n",
            "Enter your age: 35\n",
            "Enter your credit score: 99\n",
            "Enter your annual income:$ 900000\n",
            "You are not eligible for the loan due to credit score.\n",
            "-----------------------------------------------------\n"
          ]
        }
      ]
    },
    {
      "cell_type": "markdown",
      "id": "2b4c034e-a69a-4124-a1ea-497bce36c7a9",
      "metadata": {
        "id": "2b4c034e-a69a-4124-a1ea-497bce36c7a9"
      },
      "source": [
        "Q10. Write a Python program to check whether the entered letter is a vowel, a consonant, or invalid input.\n",
        "\n",
        "The program should take a single character as input. If the character is a vowel (a, e, i, o, u in both upper and lower case), it will print \"Vowel\". If it is an alphabet but not a vowel, it will print \"Consonant\". Otherwise, it will print \"Please enter valid alphabet\".\n",
        "\n",
        "Expected Output:\n",
        "\n",
        "Enter a single letter:  a\n",
        "\n",
        "a is a Vowel\n",
        "\n",
        "---\n",
        "\n",
        "Enter a single letter:  E\n",
        "\n",
        "E is a Vowel\n",
        "\n",
        "---\n",
        "\n",
        "Enter a single letter:  z\n",
        "\n",
        "z is a Consonant\n",
        "\n",
        "---\n",
        "\n",
        "Enter a single letter:  7\n",
        "\n",
        "Please enter valid alphabet\n"
      ]
    },
    {
      "cell_type": "code",
      "execution_count": 24,
      "id": "17752b4c-7dcf-47c3-809b-d7c34e3ae440",
      "metadata": {
        "id": "17752b4c-7dcf-47c3-809b-d7c34e3ae440",
        "colab": {
          "base_uri": "https://localhost:8080/"
        },
        "outputId": "6ef43d86-9c07-4718-f745-628b1d7ece66"
      },
      "outputs": [
        {
          "output_type": "stream",
          "name": "stdout",
          "text": [
            "Enter a single Letter: a\n",
            "a is a Vowel\n",
            "Enter a single Letter: e\n",
            "e is a Vowel\n",
            "Enter a single Letter: z\n",
            "z is a Consonant\n",
            "Enter a single Letter: 7\n",
            "Please enter valid alphabet\n"
          ]
        }
      ],
      "source": [
        "# Running Loop to Ask 3 times:\n",
        "for i in range(4):\n",
        "\n",
        "  # Asking User Input\n",
        "  user_alphabet = input('Enter a single Letter: ')\n",
        "  uppercase_vowels = ['A','E','I','O','U']\n",
        "  lowercase_vowels = ['a','e','i','o','u']\n",
        "\n",
        "  # Checking alphabet then vowel consonant condition\n",
        "  if user_alphabet.isalpha():\n",
        "      if user_alphabet in uppercase_vowels or user_alphabet in lowercase_vowels:\n",
        "       print(f'{user_alphabet} is a Vowel')\n",
        "\n",
        "      elif user_alphabet not in uppercase_vowels or user_alphabet not in lowercase_vowels:\n",
        "       print(f'{user_alphabet} is a Consonant')\n",
        "\n",
        "# Else invalid input\n",
        "  else:\n",
        "    print('Please enter valid alphabet')"
      ]
    },
    {
      "cell_type": "code",
      "source": [
        "! git clone https://github.com/codedbyvilen/JP-Pakistan-Assign4.git\n"
      ],
      "metadata": {
        "colab": {
          "base_uri": "https://localhost:8080/"
        },
        "id": "4GQP3fHmHn20",
        "outputId": "de985d98-e3f6-4399-ca4c-c4e14f970d7e"
      },
      "id": "4GQP3fHmHn20",
      "execution_count": 25,
      "outputs": [
        {
          "output_type": "stream",
          "name": "stdout",
          "text": [
            "Cloning into 'JP-Pakistan-Assign4'...\n",
            "remote: Enumerating objects: 3, done.\u001b[K\n",
            "remote: Counting objects: 100% (3/3), done.\u001b[K\n",
            "remote: Compressing objects: 100% (3/3), done.\u001b[K\n",
            "remote: Total 3 (delta 0), reused 3 (delta 0), pack-reused 0 (from 0)\u001b[K\n",
            "Receiving objects: 100% (3/3), done.\n"
          ]
        }
      ]
    },
    {
      "cell_type": "code",
      "source": [
        "!git config --global user.name \"codedbyvilen\"\n",
        "!git config --global user.email \"vilen89762@gmail.com\""
      ],
      "metadata": {
        "id": "PMHaqJYcHqcs"
      },
      "id": "PMHaqJYcHqcs",
      "execution_count": 26,
      "outputs": []
    },
    {
      "cell_type": "code",
      "source": [],
      "metadata": {
        "id": "9rdJKaBuKPRR"
      },
      "id": "9rdJKaBuKPRR",
      "execution_count": null,
      "outputs": []
    }
  ],
  "metadata": {
    "kernelspec": {
      "display_name": "Python 3 (ipykernel)",
      "language": "python",
      "name": "python3"
    },
    "language_info": {
      "codemirror_mode": {
        "name": "ipython",
        "version": 3
      },
      "file_extension": ".py",
      "mimetype": "text/x-python",
      "name": "python",
      "nbconvert_exporter": "python",
      "pygments_lexer": "ipython3",
      "version": "3.12.7"
    },
    "colab": {
      "provenance": []
    }
  },
  "nbformat": 4,
  "nbformat_minor": 5
}