{
  "cells": [
    {
      "cell_type": "markdown",
      "id": "7e777340-fcd5-4c13-9ae0-e80ade2b8a3a",
      "metadata": {
        "id": "7e777340-fcd5-4c13-9ae0-e80ade2b8a3a"
      },
      "source": [
        "Q1. Write a Python program that prints the multiplication table for a given number (between 1 and 10) using a for loop.\n",
        "\n",
        "Hint:\n",
        "\n",
        "Ask the user for a number between 1 and 10 .\n",
        "Use a for loop to iterate through the numbers from 1 to 10.\n",
        "For each iteration, calculate the product of the given number and the current number in the loop.\n",
        "Print the result in a readable format (e.g., 5 x 1 = 5).\n",
        "Ensure the program works correctly for any number between 1 and 10.\n",
        "Output Hint:\n",
        "\n",
        "- 4 x 1 = 4\n",
        "- 4 x 2 = 8\n",
        "- 4 x 3 = 12\n",
        "- 4 x 4 = 16\n",
        "- 4 x 5 = 20\n",
        "- 4 x 6 = 24\n",
        "- 4 x 7 = 28\n",
        "- 4 x 8 = 32\n",
        "- 4 x 9 = 36\n",
        "- 4 x 10 = 40"
      ]
    },
    {
      "cell_type": "code",
      "source": [
        "# Ask user to input a number\n",
        "user_inp = int(input('Enter the number between (1 and 10): '))\n",
        "\n",
        "# Using for loop to interate and displaying\n",
        "for i in range(1,11):\n",
        "  print(f'{user_inp} * {i} = {user_inp * i}')"
      ],
      "metadata": {
        "colab": {
          "base_uri": "https://localhost:8080/"
        },
        "id": "AXpQWkYtFy0s",
        "outputId": "31ff4ae1-ccdc-4c52-8fd8-b345140a415f"
      },
      "id": "AXpQWkYtFy0s",
      "execution_count": 3,
      "outputs": [
        {
          "output_type": "stream",
          "name": "stdout",
          "text": [
            "Enter the number between (1 and 10): 6\n",
            "6 * 1 = 6\n",
            "6 * 2 = 12\n",
            "6 * 3 = 18\n",
            "6 * 4 = 24\n",
            "6 * 5 = 30\n",
            "6 * 6 = 36\n",
            "6 * 7 = 42\n",
            "6 * 8 = 48\n",
            "6 * 9 = 54\n",
            "6 * 10 = 60\n"
          ]
        }
      ]
    },
    {
      "cell_type": "markdown",
      "id": "93c6d6ba-b4ef-4284-a0e9-9db6eaf2a2cf",
      "metadata": {
        "id": "93c6d6ba-b4ef-4284-a0e9-9db6eaf2a2cf"
      },
      "source": [
        "Q2. Stop sending emails after 3 users (Using for loop and break)\n",
        "\n",
        "users = [\"Ali\", \"Sara\", \"John\", \"Zara\", \"Mike\"]\n",
        "\n",
        "Output:\n",
        "\n",
        "Email sent to Ali\n",
        "\n",
        "Email sent to Sara\n",
        "\n",
        "Email sent to John\n",
        "\n",
        "Limit reached. Stop sending emails."
      ]
    },
    {
      "cell_type": "code",
      "source": [
        "# List of users\n",
        "users = [\"Ali\", \"Sara\", \"John\", \"Zara\", \"Mike\"]\n",
        "\n",
        "# Using for loop to send emails\n",
        "for i in range(len(users)):\n",
        "\n",
        "  # If limit of users greather than 3 then break\n",
        "  if i >= 3:\n",
        "    print('Limit reached. Stop sending emails')\n",
        "    break\n",
        "\n",
        "  # Else Email Sent\n",
        "  print(f'Email sent to {users[i]}')"
      ],
      "metadata": {
        "colab": {
          "base_uri": "https://localhost:8080/"
        },
        "id": "uA0nispQGrP8",
        "outputId": "9da1a4dc-597a-437a-9e45-2163f4c30f2f"
      },
      "id": "uA0nispQGrP8",
      "execution_count": 11,
      "outputs": [
        {
          "output_type": "stream",
          "name": "stdout",
          "text": [
            "Email sent to Ali\n",
            "Email sent to Sara\n",
            "Email sent to John\n",
            "Limit reached. Stop sending emails\n"
          ]
        }
      ]
    },
    {
      "cell_type": "markdown",
      "id": "fa38e056-f606-41d9-8748-2209cb4eaad7",
      "metadata": {
        "id": "fa38e056-f606-41d9-8748-2209cb4eaad7"
      },
      "source": [
        "Q3. Stop monitoring temperature if critical temperature reached (Using for loop and break)\n",
        "\n",
        "temps = [22, 25, 30, 45, 28]\n",
        "critical = 40\n",
        "\n",
        "Ouput:\n",
        "\n",
        "Temperature: 22\n",
        "\n",
        "Temperature: 25\n",
        "\n",
        "Temperature: 30\n",
        "\n",
        "Critical temperature reached! Stop monitoring."
      ]
    },
    {
      "cell_type": "code",
      "source": [
        "# List of temperatures\n",
        "temps = [22, 25, 30, 45, 28]\n",
        "\n",
        "# Using for loop to check critical temperature\n",
        "for i in range(len(temps)):\n",
        "\n",
        "  # If critical temperature greater than equal to 40\n",
        "  if temps[i] >= 40:\n",
        "    print('Critical temperature reached! Stop monitoring.')\n",
        "    break\n",
        "\n",
        "  # Else Monitor Temperature\n",
        "  print(f'Temperature: {temps[i]}')"
      ],
      "metadata": {
        "colab": {
          "base_uri": "https://localhost:8080/"
        },
        "id": "VvnTi_AtINME",
        "outputId": "521a771b-f8ea-4198-8be2-6c5e5809d407"
      },
      "id": "VvnTi_AtINME",
      "execution_count": 13,
      "outputs": [
        {
          "output_type": "stream",
          "name": "stdout",
          "text": [
            "Temperature: 22\n",
            "Temperature: 25\n",
            "Temperature: 30\n",
            "Critical temperature reached! Stop monitoring.\n"
          ]
        }
      ]
    },
    {
      "cell_type": "markdown",
      "id": "7f5bbc99-28e7-4866-b306-58221f72076c",
      "metadata": {
        "id": "7f5bbc99-28e7-4866-b306-58221f72076c"
      },
      "source": [
        "Q4. Calculate total price of items in a shopping cart (Using For loop)\n",
        "\n",
        "cart = [100, 250, 50, 300]\n",
        "\n",
        "Output:\n",
        "\n",
        "Total Price: 700"
      ]
    },
    {
      "cell_type": "code",
      "source": [
        "# List of total price of items\n",
        "cart = [100, 250, 50, 300]\n",
        "total_price = 0\n",
        "\n",
        "# Using for loop to calculate total price\n",
        "for i in cart:\n",
        "  total_price += i\n",
        "\n",
        "# Displaying Total Price\n",
        "print(f'Total price of items: {total_price}')\n"
      ],
      "metadata": {
        "colab": {
          "base_uri": "https://localhost:8080/"
        },
        "id": "MckVC2ceI-6i",
        "outputId": "709b214f-3cdc-4f68-e6bd-f86bff5baee4"
      },
      "id": "MckVC2ceI-6i",
      "execution_count": 14,
      "outputs": [
        {
          "output_type": "stream",
          "name": "stdout",
          "text": [
            "Total price of items: 700\n"
          ]
        }
      ]
    },
    {
      "cell_type": "markdown",
      "source": [],
      "metadata": {
        "id": "FuJxUFYaJsAi"
      },
      "id": "FuJxUFYaJsAi"
    },
    {
      "cell_type": "markdown",
      "id": "d01d8825-6b0a-44f5-962f-f805700a8e08",
      "metadata": {
        "id": "d01d8825-6b0a-44f5-962f-f805700a8e08"
      },
      "source": [
        "Q5. Skip customers with unpaid bills (Using For loop and continue)\n",
        "\n",
        "customers = [\n",
        "    {\"name\": \"Ali\", \"paid\": True},\n",
        "    \n",
        "    {\"name\": \"Sara\", \"paid\": False},\n",
        "    \n",
        "    {\"name\": \"John\", \"paid\": True}\n",
        "]\n",
        "\n",
        "\n",
        "Output:\n",
        "\n",
        "Access granted to: Ali\n",
        "\n",
        "Access granted to: John\n"
      ]
    },
    {
      "cell_type": "code",
      "source": [
        "from os import fwalk\n",
        "# Customers List\n",
        "customers = [\n",
        "    {\"name\": \"Ali\", \"paid\": True},\n",
        "\n",
        "    {\"name\": \"Sara\", \"paid\": False},\n",
        "\n",
        "    {\"name\": \"John\", \"paid\": True}\n",
        "]\n",
        "\n",
        "\n",
        "# Using for loops to skip customers who are unpaid\n",
        "for customer in customers:\n",
        "\n",
        "  # If Customer is unpaid then skip\n",
        "  if customer['paid'] == False:\n",
        "    continue\n",
        "\n",
        "  # Else Grant Access\n",
        "  print('Access granted to: {name}'.format(name=customer['name']))"
      ],
      "metadata": {
        "colab": {
          "base_uri": "https://localhost:8080/"
        },
        "id": "U1pUh9XIJX3s",
        "outputId": "efe5b9c4-5efe-40e4-f139-0814c8107ce7"
      },
      "id": "U1pUh9XIJX3s",
      "execution_count": 20,
      "outputs": [
        {
          "output_type": "stream",
          "name": "stdout",
          "text": [
            "Access granted to: Ali\n",
            "Access granted to: John\n"
          ]
        }
      ]
    },
    {
      "cell_type": "markdown",
      "id": "f6cfe812-c319-40e5-ac17-cef6e72488dd",
      "metadata": {
        "id": "f6cfe812-c319-40e5-ac17-cef6e72488dd"
      },
      "source": [
        "Q6. Send personalized emails to a list of users (Using for loop)\n",
        "\n",
        "users = [\"Ali\", \"Sara\", \"John\"]\n",
        "\n",
        "Output:\n",
        "\n",
        "- Hello Ali, your subscription is active!\n",
        "- Hello Sara, your subscription is active!\n",
        "- Hello John, your subscription is active!\n"
      ]
    },
    {
      "cell_type": "code",
      "source": [
        "# List of users\n",
        "users = [\"Ali\", \"Sara\", \"John\"]\n",
        "\n",
        "# Using for loop to sne dcustomize emails\n",
        "for i in users:\n",
        "  print(f'Hello {i}, your subscription is active!')"
      ],
      "metadata": {
        "colab": {
          "base_uri": "https://localhost:8080/"
        },
        "id": "n37PwVsaKpRa",
        "outputId": "d7e58fad-6d2e-45ca-fcfa-0d8e806a3a11"
      },
      "id": "n37PwVsaKpRa",
      "execution_count": 22,
      "outputs": [
        {
          "output_type": "stream",
          "name": "stdout",
          "text": [
            "Hello Ali, your subscription is active!\n",
            "Hello Sara, your subscription is active!\n",
            "Hello John, your subscription is active!\n"
          ]
        }
      ]
    },
    {
      "cell_type": "markdown",
      "id": "8ac2616e-f0fb-433f-a1c5-0adf73e50429",
      "metadata": {
        "id": "8ac2616e-f0fb-433f-a1c5-0adf73e50429"
      },
      "source": [
        "Q7. Extract domain names from email list (Using for loop)\n",
        "\n",
        "emails = [\"ali@gmail.com\", \"sara@yahoo.com\", \"john@hotmail.com\"]\n",
        "\n",
        "Output:\n",
        "\n",
        "domains: ['gmail.com', 'yahoo.com', 'hotmail.com']\n"
      ]
    },
    {
      "cell_type": "code",
      "source": [
        "# List of emails\n",
        "emails = [\"ali@gmail.com\", \"sara@yahoo.com\", \"john@hotmail.com\"]\n",
        "domain_list = []\n",
        "\n",
        "# Using for loop to extract domain list\n",
        "for email in emails:\n",
        "\n",
        "  # Splitting Domain\n",
        "  split_domain = email.split('@')[1]\n",
        "\n",
        "  # Append domains into domains list\n",
        "  domain_list.append(split_domain)\n",
        "\n",
        "# Displaying Domains List\n",
        "print(f'domains:{domain_list}')"
      ],
      "metadata": {
        "colab": {
          "base_uri": "https://localhost:8080/"
        },
        "id": "tHEkjoFWLcQR",
        "outputId": "29f0346e-db70-45f9-ff2c-23f1e418cef7"
      },
      "id": "tHEkjoFWLcQR",
      "execution_count": 30,
      "outputs": [
        {
          "output_type": "stream",
          "name": "stdout",
          "text": [
            "domains:['gmail.com', 'yahoo.com', 'hotmail.com']\n"
          ]
        }
      ]
    },
    {
      "cell_type": "markdown",
      "id": "bc118672-58b5-44e3-8895-0685921efdda",
      "metadata": {
        "id": "bc118672-58b5-44e3-8895-0685921efdda"
      },
      "source": [
        "Q8. Print only overdue tasks (Using for loop)\n",
        "\n",
        "tasks = [\n",
        "    {\"task\": \"Pay bills\", \"status\": \"done\"},\n",
        "    \n",
        "    {\"task\": \"Submit report\", \"status\": \"pending\"},\n",
        "    \n",
        "    {\"task\": \"Clean house\", \"status\": \"pending\"}\n",
        "]\n",
        "\n",
        "\n",
        "Ouput:\n",
        "\n",
        "Overdue: Submit report\n",
        "\n",
        "Overdue: Clean house"
      ]
    },
    {
      "cell_type": "code",
      "source": [
        "# List of tasks\n",
        "tasks = [\n",
        "    {\"task\": \"Pay bills\", \"status\": \"done\"},\n",
        "\n",
        "    {\"task\": \"Submit report\", \"status\": \"pending\"},\n",
        "\n",
        "    {\"task\": \"Clean house\", \"status\": \"pending\"}\n",
        "]\n",
        "\n",
        "# Using for loop to check overdue task\n",
        "for task in tasks:\n",
        "\n",
        "  # If Status is Done then skip\n",
        "  if task['status'] == 'done':\n",
        "    continue\n",
        "\n",
        "  # Displaying overdue/pending data\n",
        "  print('Overdue: {task}'.format(task=task['task']))\n"
      ],
      "metadata": {
        "colab": {
          "base_uri": "https://localhost:8080/"
        },
        "id": "4v-db3W6NUaV",
        "outputId": "ac612c14-4b68-4389-fa3c-6b323e6f97b0"
      },
      "id": "4v-db3W6NUaV",
      "execution_count": 32,
      "outputs": [
        {
          "output_type": "stream",
          "name": "stdout",
          "text": [
            "Overdue: Submit report\n",
            "Overdue: Clean house\n"
          ]
        }
      ]
    },
    {
      "cell_type": "markdown",
      "id": "c3d3986b-d13f-4afd-829d-b7b1a6f8a526",
      "metadata": {
        "id": "c3d3986b-d13f-4afd-829d-b7b1a6f8a526"
      },
      "source": [
        "Q9. Extract names of employees with salary above 50,000\n",
        "\n",
        "employees = [\n",
        "    {\"name\": \"Ali\", \"salary\": 60000},\n",
        "    \n",
        "    {\"name\": \"Sara\", \"salary\": 45000},\n",
        "    \n",
        "    {\"name\": \"John\", \"salary\": 70000}\n",
        "]\n",
        "\n",
        "\n",
        "Output:\n",
        "\n",
        "Ali earns above 50,000\n",
        "\n",
        "John earns above 50,000"
      ]
    },
    {
      "cell_type": "code",
      "source": [
        "# List of employees\n",
        "employees = [\n",
        "    {\"name\": \"Ali\", \"salary\": 60000},\n",
        "\n",
        "    {\"name\": \"Sara\", \"salary\": 45000},\n",
        "\n",
        "    {\"name\": \"John\", \"salary\": 70000}\n",
        "]\n",
        "\n",
        "# Using for loop to check salary above 50,000\n",
        "for employee in employees:\n",
        "\n",
        "  # If Salary greater than 50000\n",
        "  if employee['salary'] > 50000:\n",
        "\n",
        "   # Displaying Salary\n",
        "   print('{name} earns above {salary}'.format(name=employee['name'],salary=employee['salary']))\n"
      ],
      "metadata": {
        "colab": {
          "base_uri": "https://localhost:8080/"
        },
        "id": "Nu6sVBzJQRfn",
        "outputId": "f5f35ce6-7e12-48ba-dbfd-76c408493259"
      },
      "id": "Nu6sVBzJQRfn",
      "execution_count": 34,
      "outputs": [
        {
          "output_type": "stream",
          "name": "stdout",
          "text": [
            "Ali earns above 60000\n",
            "John earns above 70000\n"
          ]
        }
      ]
    },
    {
      "cell_type": "markdown",
      "id": "f1db4dfb-ea09-4b1b-9383-28d7a5253f06",
      "metadata": {
        "id": "f1db4dfb-ea09-4b1b-9383-28d7a5253f06"
      },
      "source": [
        "Q10. Skip weekends while printing workdays (Using for loop and continue)\n",
        "\n",
        "days = [\"Monday\", \"Tuesday\", \"Wednesday\", \"Thursday\", \"Friday\", \"Saturday\", \"Sunday\"]\n",
        "\n",
        "Output:\n",
        "\n",
        "Workday: Monday\n",
        "\n",
        "Workday: Tuesday\n",
        "\n",
        "Workday: Wednesday\n",
        "\n",
        "Workday: Thursday\n",
        "\n",
        "Workday: Friday\n"
      ]
    },
    {
      "cell_type": "code",
      "execution_count": 36,
      "id": "3909f284-36f9-401d-95b9-83d2a1b65f71",
      "metadata": {
        "colab": {
          "base_uri": "https://localhost:8080/"
        },
        "id": "3909f284-36f9-401d-95b9-83d2a1b65f71",
        "outputId": "f79e7768-efb7-4762-b9a5-5b6e51d8faab"
      },
      "outputs": [
        {
          "output_type": "stream",
          "name": "stdout",
          "text": [
            "Workday: Monday\n",
            "Workday: Tuesday\n",
            "Workday: Wednesday\n",
            "Workday: Thursday\n",
            "Workday: Friday\n"
          ]
        }
      ],
      "source": [
        "# List of Days\n",
        "days = [\"Monday\", \"Tuesday\", \"Wednesday\", \"Thursday\", \"Friday\", \"Saturday\", \"Sunday\"]\n",
        "\n",
        "# Using for loop to check weekends\n",
        "for day in days:\n",
        "\n",
        "  # If days is equal to weekends\n",
        "  if day == 'Saturday' or day == 'Sunday':\n",
        "      continue\n",
        "\n",
        "  # Displaying Workdays\n",
        "  print(f'Workday: {day}')"
      ]
    }
  ],
  "metadata": {
    "kernelspec": {
      "display_name": "Python 3 (ipykernel)",
      "language": "python",
      "name": "python3"
    },
    "language_info": {
      "codemirror_mode": {
        "name": "ipython",
        "version": 3
      },
      "file_extension": ".py",
      "mimetype": "text/x-python",
      "name": "python",
      "nbconvert_exporter": "python",
      "pygments_lexer": "ipython3",
      "version": "3.12.7"
    },
    "colab": {
      "provenance": [],
      "toc_visible": true
    }
  },
  "nbformat": 4,
  "nbformat_minor": 5
}