{
  "cells": [
    {
      "cell_type": "markdown",
      "id": "2bf6c77b-bc8e-45a8-a853-401f0356badf",
      "metadata": {
        "id": "2bf6c77b-bc8e-45a8-a853-401f0356badf"
      },
      "source": [
        "Q1:\n",
        "Write a Python program that:\n",
        "\n",
        "Has a balance of 1000.\n",
        "\n",
        "Asks the user for a withdrawal amount.\n",
        "\n",
        "Checks for these errors:\n",
        "\n",
        "Non-numeric input → print \"Please enter a valid number.\"\n",
        "\n",
        "Amount ≤ 0 → print \"Amount must be more than zero.\"\n",
        "\n",
        "Amount > balance → print \"Insufficient balance.\"\n",
        "\n",
        "If valid, deducts amount and shows remaining balance.\n",
        "\n",
        "Always prints \"Thank you for using the ATM.\"\n",
        "\n",
        "Expected Output:\n",
        "\n",
        "- Enter amount to withdraw: 1500\n",
        "\n",
        "  Insufficient balance.\n",
        "\n",
        "  Thank you for using the ATM.\n",
        "\n",
        "\n",
        "- Enter amount to withdraw:  0\n",
        "\n",
        "  Amount must be more than zero.\n",
        "\n",
        "  Thank you for using the ATM.\n",
        "\n",
        "\n",
        "- Enter amount to withdraw:  K\n",
        "\n",
        "\n",
        "  Please enter a valid number.\n",
        "\n",
        "  Thank you for using the ATM."
      ]
    },
    {
      "cell_type": "code",
      "source": [
        "# Current Balance\n",
        "balance = 1000\n",
        "\n",
        "# User Input\n",
        "user_inp = 0\n",
        "\n",
        "# Loop to continous ask user\n",
        "while True:\n",
        " try:\n",
        "    user_inp = int(input(\"Enter amount to withdraw: \"))\n",
        "\n",
        "    # If amount greater than balance\n",
        "    if user_inp > balance:\n",
        "      print('Insufficient balance.')\n",
        "\n",
        "    # If amount less than eqaual to 0\n",
        "    elif user_inp <= 0:\n",
        "      print('Amount must be more than zero.')\n",
        "\n",
        "    # Else complete transaction\n",
        "    else:\n",
        "      remaining_balance = balance - user_inp\n",
        "      print(f'Remaining Balance: {remaining_balance}')\n",
        "      break\n",
        "\n",
        " # Wrong Data type of Amount\n",
        " except ValueError:\n",
        "    print('Please enter a valid number.')\n",
        "\n",
        " # Always Runs\n",
        " finally:\n",
        "    print('Thank You for using the ATM.')\n",
        "    print('\\n')"
      ],
      "metadata": {
        "colab": {
          "base_uri": "https://localhost:8080/"
        },
        "id": "zNcY7e0dLuYB",
        "outputId": "96e20f4a-0af0-4517-c30c-b590f3ee4f92"
      },
      "id": "zNcY7e0dLuYB",
      "execution_count": null,
      "outputs": [
        {
          "output_type": "stream",
          "name": "stdout",
          "text": [
            "Enter amount to withdraw: 1500\n",
            "Insufficient balance.\n",
            "Thank You for using the ATM.\n",
            "\n",
            "\n",
            "Enter amount to withdraw: 0\n",
            "Amount must be more than zero.\n",
            "Thank You for using the ATM.\n",
            "\n",
            "\n",
            "Enter amount to withdraw: K\n",
            "Please enter a valid number.\n",
            "Thank You for using the ATM.\n",
            "\n",
            "\n",
            "Enter amount to withdraw: 500\n",
            "Remaining Balance: 500\n",
            "Thank You for using the ATM.\n",
            "\n",
            "\n"
          ]
        }
      ]
    },
    {
      "cell_type": "markdown",
      "id": "e7ca4d3f-3f2f-4b01-bc4c-28919084207c",
      "metadata": {
        "id": "e7ca4d3f-3f2f-4b01-bc4c-28919084207c"
      },
      "source": [
        "Q2\n",
        "\n",
        "Write a Python program that:\n",
        "\n",
        "Has 5 seats available (available_seats = 5).\n",
        "\n",
        "Asks the user how many tickets they want to book.\n",
        "\n",
        "Checks for these cases:\n",
        "\n",
        "Non-numeric input → print \"Please enter a valid number.\"\n",
        "\n",
        "Tickets ≤ 0 → print \"You must book at least 1 ticket.\"\n",
        "\n",
        "Tickets more than available seats → print \"Not enough seats available.\"\n",
        "\n",
        "If valid, confirms the booking by printing how many tickets were booked.\n",
        "\n",
        "Always prints \"Thank you for booking with us.\" at the end.\n",
        "\n",
        "Expected Output:\n",
        "\n",
        "- How many tickets do you want to book? 3\n",
        "\n",
        "  3 ticket(s) booked successfully.\n",
        "\n",
        "  Thank you for booking with us.\n",
        "\n",
        "- How many tickets do you want to book? 0\n",
        "\n",
        "\n",
        "  You must book at least 1 ticket.\n",
        "\n",
        "  Thank you for booking with us.\n",
        "\n",
        "- How many tickets do you want to book? 7\n",
        "\n",
        "  Not enough seats available.\n",
        "\n",
        "  Thank you for booking with us.\n",
        "\n",
        "- How many tickets do you want to book? five\n",
        "\n",
        "  Please enter a valid number.\n",
        "\n",
        "  Thank you for booking with us.\n",
        "\n",
        "\n",
        "\n"
      ]
    },
    {
      "cell_type": "code",
      "source": [
        "# Current Seats\n",
        "available_seats = 5\n",
        "\n",
        "# Ticket Input\n",
        "ticket = 0\n",
        "\n",
        "# Loop to continous ask user\n",
        "while True:\n",
        " try:\n",
        "    ticket = int(input(\"How many tickets they want to book: \"))\n",
        "\n",
        "    # If ticket greater than seats\n",
        "    if ticket > available_seats:\n",
        "      print('Not enough seats available.')\n",
        "\n",
        "    # If ticket less than eqaual to 0\n",
        "    elif ticket <= 0:\n",
        "      print('You must book at least 1 ticket.')\n",
        "\n",
        "    # Else complete booking\n",
        "    else:\n",
        "      print(f'{ticket}ticket(s) booked successfully.')\n",
        "      break\n",
        "\n",
        " # Wrong Data type of Amount\n",
        " except ValueError:\n",
        "    print('Please enter a valid number.')\n",
        "\n",
        " # Always Runs\n",
        " finally:\n",
        "    print('Thank you for booking with us.')\n",
        "    print('\\n')"
      ],
      "metadata": {
        "colab": {
          "base_uri": "https://localhost:8080/"
        },
        "id": "A8scqfEoOn6f",
        "outputId": "20adaaf9-5ab3-4b06-84a1-f413678665ad"
      },
      "id": "A8scqfEoOn6f",
      "execution_count": null,
      "outputs": [
        {
          "output_type": "stream",
          "name": "stdout",
          "text": [
            "How many tickets they want to book: 0\n",
            "You must book at least 1 ticket.\n",
            "Thank you for booking with us.\n",
            "\n",
            "\n",
            "How many tickets they want to book: 7\n",
            "Not enough seats available.\n",
            "Thank you for booking with us.\n",
            "\n",
            "\n",
            "How many tickets they want to book: five\n",
            "Please enter a valid number.\n",
            "Thank you for booking with us.\n",
            "\n",
            "\n",
            "How many tickets they want to book: 3\n",
            "3ticket(s) booked successfully.\n",
            "Thank you for booking with us.\n",
            "\n",
            "\n"
          ]
        }
      ]
    },
    {
      "cell_type": "markdown",
      "id": "5dc01c7c-2a5b-4a18-bd8f-4b80f71b625b",
      "metadata": {
        "id": "5dc01c7c-2a5b-4a18-bd8f-4b80f71b625b"
      },
      "source": [
        "Q3:\n",
        "\n",
        "Write a Python program that:\n",
        "\n",
        "Asks the user how many items they want to buy.\n",
        "\n",
        "If the user enters a non-number, print: \"Please enter a valid quantity.\"\n",
        "\n",
        "If the user enters a number less than 1, print: \"You must buy at least one item.\"\n",
        "\n",
        "If the input is valid, print: \"You added {quantity} item(s) to your cart.\"\n",
        "\n",
        "Expected Output:\n",
        "\n",
        "- Enter the number of items you want to buy: 3\n",
        "\n",
        "  You added 3 item(s) to your cart.\n",
        "\n",
        "- Enter the number of items you want to buy: 0\n",
        "\n",
        "    You must buy at least one item.\n",
        "\n",
        "- Enter the number of items you want to buy: five\n",
        "\n",
        "  Please enter a valid quantity.\n",
        "\n"
      ]
    },
    {
      "cell_type": "code",
      "source": [
        "# Loop to continous ask user\n",
        "while True:\n",
        "\n",
        "  # Asking User about quantity of items\n",
        "  try:\n",
        "    items_inp = int(input('How many items they you want to buy: '))\n",
        "\n",
        "    # If items less than 1\n",
        "    if items_inp < 1:\n",
        "      print('You must buy at least one item.')\n",
        "      print('\\n')\n",
        "\n",
        "    # Else successful added to cart\n",
        "    else:\n",
        "      print(f'You added {items_inp} items(s) to your cart.')\n",
        "      print('\\n')\n",
        "      break\n",
        "\n",
        "  # Wrong Data Type Input Check\n",
        "  except ValueError:\n",
        "    print('Please enter a valid quantity.')\n",
        "    print('\\n')\n",
        "\n"
      ],
      "metadata": {
        "colab": {
          "base_uri": "https://localhost:8080/"
        },
        "id": "AJLA3MDBUCod",
        "outputId": "d56935b5-f0b5-4754-ba13-12f42da8e25c"
      },
      "id": "AJLA3MDBUCod",
      "execution_count": null,
      "outputs": [
        {
          "output_type": "stream",
          "name": "stdout",
          "text": [
            "How many items they you want to buy: 0\n",
            "You must buy at least one item.\n",
            "\n",
            "\n",
            "How many items they you want to buy: five \n",
            "Please enter a valid quantity.\n",
            "\n",
            "\n",
            "How many items they you want to buy: 3\n",
            "You added 3 items(s) to your cart.\n",
            "\n",
            "\n"
          ]
        }
      ]
    },
    {
      "cell_type": "markdown",
      "id": "3ac27741-aec9-45ae-83c5-8648e53245cd",
      "metadata": {
        "id": "3ac27741-aec9-45ae-83c5-8648e53245cd"
      },
      "source": [
        "Q4:\n",
        "Write a Python program that:\n",
        "\n",
        "Asks the user to enter a number between 1 and 7.\n",
        "\n",
        "If the number is between 1 and 7, prints the corresponding day of the week (1 = Monday, 7 = Sunday).\n",
        "\n",
        "If the number is outside this range, prints: \"Please enter a number between 1 and 7.\"\n",
        "\n",
        "Handles invalid input (non-numbers) by printing: \"Please enter a valid number.\"\n",
        "\n",
        "Expected Output:\n",
        "\n",
        "- Enter a day number (1-7): 3\n",
        "\n",
        "  Day is Wednesday\n",
        "\n",
        "- Enter a day number (1-7): 9\n",
        "\n",
        "    Please enter a number between 1 and 7.\n",
        "\n",
        "- Enter a day number (1-7): five\n",
        "\n",
        "  Please enter a valid number.\n",
        "\n",
        "\n"
      ]
    },
    {
      "cell_type": "code",
      "source": [
        "# Initializing Month Dictionary\n",
        "month_dictionary = {1:'Monday',2:'Tuesday',3:'Wednesday',4:'Thursday',5:'Friday',6:'Saturday',7:'Sunday'}\n",
        "\n",
        "# Loop for asking user to enter number between 1 and 7\n",
        "while True:\n",
        "  try:\n",
        "    user_inp = int(input('Enter a number between 1 and 7: '))\n",
        "\n",
        "    # If Input in range\n",
        "    if user_inp in range(7):\n",
        "      print(\"Day is {d}.\".format(d=month_dictionary[user_inp]))\n",
        "      print('\\n')\n",
        "      break\n",
        "\n",
        "    # Else print warning\n",
        "    else:\n",
        "      print('Please enter a number between 1 and 7.')\n",
        "      print('\\n')\n",
        "\n",
        "  # Wrong Data Type\n",
        "  except ValueError:\n",
        "    print('Please enter a valid number.')\n",
        "    print('\\n')"
      ],
      "metadata": {
        "colab": {
          "base_uri": "https://localhost:8080/"
        },
        "id": "tdVJJ4pIckyx",
        "outputId": "e826224e-b575-4e7b-9589-a6b0cab78819"
      },
      "id": "tdVJJ4pIckyx",
      "execution_count": null,
      "outputs": [
        {
          "output_type": "stream",
          "name": "stdout",
          "text": [
            "Enter a number between 1 and 7: 9\n",
            "Please enter a number between 1 and 7.\n",
            "\n",
            "\n",
            "Enter a number between 1 and 7: five\n",
            "Please enter a valid number.\n",
            "\n",
            "\n",
            "Enter a number between 1 and 7: 3\n",
            "Day is Wednesday.\n",
            "\n",
            "\n"
          ]
        }
      ]
    },
    {
      "cell_type": "markdown",
      "id": "ae60a0eb-b305-425f-b90e-808005f8cefb",
      "metadata": {
        "id": "ae60a0eb-b305-425f-b90e-808005f8cefb"
      },
      "source": [
        "Q5:\n",
        "\n",
        "Write a Python program that:\n",
        "\n",
        "Asks the user how many days late they are returning a book.\n",
        "\n",
        "Calculates a fine: $0.50 per day late.\n",
        "\n",
        "If the user enters a negative number, print: \"Days late cannot be negative.\"\n",
        "\n",
        "If the input is invalid (not a number), print: \"Please enter a valid number.\"\n",
        "\n",
        "Otherwise, print the total fine.\n",
        "\n",
        "Expected Output:\n",
        "\n",
        "- Enter the number of days late: 4\n",
        "\n",
        "  Total fine: $2.00\n",
        "\n",
        "- Enter the number of days late: 0\n",
        "\n",
        "  Total fine: $0.00\n",
        "\n",
        "- Enter the number of days late: -3\n",
        "\n",
        "    Days late cannot be negative.\n",
        "\n",
        "- Enter the number of days late: five\n",
        "\n",
        "\n",
        "  Please enter a valid number.\n",
        "\n",
        "\n",
        "\n"
      ]
    },
    {
      "cell_type": "code",
      "source": [
        "# Fine\n",
        "fine = 0.50\n",
        "\n",
        "# Loop for Asking User About Returning Book\n",
        "while True:\n",
        "\n",
        " try:\n",
        "   ask_return = int(input(\"How many days late they are returning a book : \"))\n",
        "\n",
        "   # If return < 0\n",
        "   if ask_return < 0:\n",
        "    print('Days Late cannot be negative')\n",
        "    print('\\n')\n",
        "\n",
        "   # If return value is positive int then calculate fine\n",
        "   else:\n",
        "      print(f'Total Fine : ${fine * ask_return}')\n",
        "      print('\\n')\n",
        "      break\n",
        "\n",
        "# Wrong Data Type give Error\n",
        " except ValueError:\n",
        "  print('Please enter a valid number.')\n",
        "  print('\\n')"
      ],
      "metadata": {
        "colab": {
          "base_uri": "https://localhost:8080/"
        },
        "id": "geSZAUDxnqs8",
        "outputId": "e72233ba-ddc9-4e0f-e996-53a24cd32445"
      },
      "id": "geSZAUDxnqs8",
      "execution_count": null,
      "outputs": [
        {
          "output_type": "stream",
          "name": "stdout",
          "text": [
            "How many days late they are returning a book : -3\n",
            "Days Late cannot be negative\n",
            "\n",
            "\n",
            "How many days late they are returning a book : five\n",
            "Please enter a valid number.\n",
            "\n",
            "\n",
            "How many days late they are returning a book : 4\n",
            "Total Fine : $2.0\n",
            "\n",
            "\n"
          ]
        }
      ]
    },
    {
      "cell_type": "markdown",
      "id": "0c62f22a-9cd0-4092-81d7-f9a1dfd27478",
      "metadata": {
        "id": "0c62f22a-9cd0-4092-81d7-f9a1dfd27478"
      },
      "source": [
        "Q6:\n",
        "Define a class named Book that has the following attributes:\n",
        "\n",
        "title (string)\n",
        "\n",
        "author (string)\n",
        "\n",
        "year (integer)\n",
        "\n",
        "Write a constructor (__init__) that initializes these attributes when a Book object is created.\n",
        "\n",
        "Then, create an object of the Book class with sample data (e.g., title = \"To Kill a Mockingbird\", author = \"Harper Lee\", year = 1960).\n",
        "\n",
        "Finally, print the values of the object's attributes (title, author, and year\n",
        "\n",
        "Expected Output:\n",
        "\n",
        "To Kill a Mockingbird\n",
        "\n",
        "Harper Lee\n",
        "\n",
        "1960\n"
      ]
    },
    {
      "cell_type": "code",
      "source": [
        "# Initializing Book\n",
        "class Book:\n",
        "\n",
        "  # Initializing Book Attributes\n",
        "  def __init__(self,title,author,year):\n",
        "    self.title = title\n",
        "    self.author = author\n",
        "    self.year = year\n",
        "\n",
        "# Creating Book Object\n",
        "book = Book(title='To Kill a Mockingbird',author=\"Harpee Lee\",year=1960)\n",
        "\n",
        "# Displaying Values\n",
        "print(book.title)\n",
        "print(book.author)\n",
        "print(book.year)"
      ],
      "metadata": {
        "colab": {
          "base_uri": "https://localhost:8080/"
        },
        "id": "VpztTmRIp7c8",
        "outputId": "e5d29883-b0b6-4539-cb39-25dbdbf11452"
      },
      "id": "VpztTmRIp7c8",
      "execution_count": null,
      "outputs": [
        {
          "output_type": "stream",
          "name": "stdout",
          "text": [
            "To Kill a Mockingbird\n",
            "Harpee Lee\n",
            "1960\n"
          ]
        }
      ]
    },
    {
      "cell_type": "markdown",
      "id": "865ebbd2-6635-46b3-8dd5-67f3939287e6",
      "metadata": {
        "id": "865ebbd2-6635-46b3-8dd5-67f3939287e6"
      },
      "source": [
        "Q7:\n",
        "\n",
        "Define a class named Book with the following:\n",
        "\n",
        "A constructor (__init__) that initializes three attributes: title, author, and year.\n",
        "\n",
        "A method display_info() that prints the book details in the format:\n",
        "\n",
        "'{title}' by {author}, published in {year}.\n",
        "\n",
        "A method is_classic() that simply prints:\n",
        "\n",
        "\"This is a book.\"\n",
        "\n",
        "Create an object of the Book class using this data:\n",
        "\n",
        "Title: \"To Kill a Mockingbird\"\n",
        "\n",
        "Author: \"Harper Lee\"\n",
        "\n",
        "Year: 1960\n",
        "\n",
        "Call both methods on the object.\n",
        "\n",
        "Expected Output:\n",
        "\n",
        "'To Kill a Mockingbird' by Harper Lee, published in 1960.\n",
        "\n",
        "This is a book.\n",
        "\n"
      ]
    },
    {
      "cell_type": "code",
      "source": [
        "# Defining a Book class\n",
        "class Books:\n",
        "    # Constructor (__init__) method to initialize object attributes\n",
        "    def __init__(self, title, author, year):\n",
        "        self.title = title\n",
        "        self.author = author\n",
        "        self.year = year\n",
        "\n",
        "    # Method to display book details in a formatted way\n",
        "    def display_info(self):\n",
        "        print(f'{self.title} by {self.author}, published in {self.year}')\n",
        "\n",
        "    # Method to check if the book is a classic\n",
        "    def is_classic(self):\n",
        "        print('This is a book.')\n",
        "\n",
        "# Creating a Book object (instance of the class)\n",
        "books = Books(title='To Kill a Mockingbird', author=\"Harpee Lee\", year=1960)\n",
        "\n",
        "# Calling the method to display book information\n",
        "books.display_info()\n",
        "\n",
        "# Calling the method to check if the book is a classic\n",
        "books.is_classic()"
      ],
      "metadata": {
        "colab": {
          "base_uri": "https://localhost:8080/"
        },
        "id": "UutStjVarUHK",
        "outputId": "f7bf8fe0-9a4b-4b5e-82d8-a72c0d934d83"
      },
      "id": "UutStjVarUHK",
      "execution_count": null,
      "outputs": [
        {
          "output_type": "stream",
          "name": "stdout",
          "text": [
            "To Kill a Mockingbird by Harpee Lee, published in 1960\n",
            "This is a book.\n"
          ]
        }
      ]
    },
    {
      "cell_type": "markdown",
      "id": "aa6ad4bb-1c4c-4765-b1e0-98068f7c89b8",
      "metadata": {
        "id": "aa6ad4bb-1c4c-4765-b1e0-98068f7c89b8"
      },
      "source": [
        "Q8:\n",
        "\n",
        "Define a class named Student that has the following:\n",
        "\n",
        "Attributes: name, grade, and age.\n",
        "\n",
        "A method introduce() that prints:\n",
        "\n",
        "\"My name is {name}, I am {age} years old.\"\n",
        "\n",
        "A method show_grade() that prints:\n",
        "\n",
        "\"My grade is {grade}.\"\n",
        "\n",
        "Create an object of the Student class with sample data (e.g., \"Alice\", \"A\", 16), and call both methods on the object.\n",
        "\n",
        "Expected Output:\n",
        "\n",
        "My name is Alice, I am 16 years old.\n",
        "\n",
        "My grade is A.\n"
      ]
    },
    {
      "cell_type": "code",
      "source": [
        "class Student:\n",
        "    # Constructor to initialize attributes\n",
        "    def __init__(self, name, grade, age):\n",
        "        self.name = name\n",
        "        self.grade = grade\n",
        "        self.age = age\n",
        "\n",
        "    # Method for introduction\n",
        "    def introduce(self):\n",
        "        print(f'My name is {self.name}, I am {self.age} years old.')\n",
        "\n",
        "    # Method to show grade\n",
        "    def show_grade(self):\n",
        "        print(f'My grade is {self.grade}.')\n",
        "\n",
        "# Creating a Student object\n",
        "student = Student('Alice', 'A', 16)\n",
        "student.introduce()\n",
        "student.show_grade()"
      ],
      "metadata": {
        "colab": {
          "base_uri": "https://localhost:8080/"
        },
        "id": "W7Zv32YdeHjU",
        "outputId": "f22f3aaf-a1c5-4b80-f93b-ad964d329ccc"
      },
      "id": "W7Zv32YdeHjU",
      "execution_count": 1,
      "outputs": [
        {
          "output_type": "stream",
          "name": "stdout",
          "text": [
            "My name is Alice,I am 16 years old.\n",
            "My grade is A.\n"
          ]
        }
      ]
    },
    {
      "cell_type": "markdown",
      "id": "525dd92f-d478-42fe-b48f-705262d24ee3",
      "metadata": {
        "id": "525dd92f-d478-42fe-b48f-705262d24ee3"
      },
      "source": [
        "Q9:\n",
        "\n",
        "Define a class named Light with two methods:\n",
        "\n",
        "turn_on() — prints: \"The light is now ON.\"\n",
        "\n",
        "check_status() — prints: \"The light is bright and working.\"\n",
        "\n",
        "Create an object of the Light class and call both methods.\n",
        "\n",
        "Expected Output:\n",
        "\n",
        "The light is now ON.\n",
        "\n",
        "The light is bright and working."
      ]
    },
    {
      "cell_type": "code",
      "source": [
        "class Light:\n",
        "    # Method to turn on light\n",
        "    def turn_on(self):\n",
        "        print('The light is now ON.')\n",
        "\n",
        "    # Method to check status\n",
        "    def check_status(self):\n",
        "        print('The Light is bright and working.')\n",
        "\n",
        "# Creating a Light object\n",
        "light = Light()\n",
        "light.turn_on()\n",
        "light.check_status()\n"
      ],
      "metadata": {
        "colab": {
          "base_uri": "https://localhost:8080/"
        },
        "id": "1kYy1r1yfLjs",
        "outputId": "9333dcc2-dca8-4bc0-f42c-8fbff4941a2e"
      },
      "id": "1kYy1r1yfLjs",
      "execution_count": 2,
      "outputs": [
        {
          "output_type": "stream",
          "name": "stdout",
          "text": [
            "The light is now ON.\n",
            "The Light is bright and working.\n"
          ]
        }
      ]
    },
    {
      "cell_type": "markdown",
      "id": "229582cf-8c57-44e9-89e5-ab363c727f0d",
      "metadata": {
        "id": "229582cf-8c57-44e9-89e5-ab363c727f0d"
      },
      "source": [
        "Q10:\n",
        "\n",
        "available_slots = [101, 102, 103, 104, 105]\n",
        "\n",
        "reserved =  [106, 107, 108, 109, 110]\n",
        "\n",
        "You manage a parking lot with two lists:\n",
        "\n",
        "available_slots — parking slots that are free and can be reserved.\n",
        "\n",
        "reserved — parking slots that are already taken.\n",
        "\n",
        "Write a program that:\n",
        "\n",
        "Asks the user to enter a parking slot number they want to reserve.\n",
        "\n",
        "Checks the slot number:\n",
        "\n",
        "If the slot is in available_slots, confirm the reservation by printing:\n",
        "\n",
        "\"Slot {slot} is reserved for you.\"\n",
        "\n",
        "If the slot is in reserved, print:\n",
        "\n",
        "\"Slot {slot} is already reserved by someone else.\"\n",
        "\n",
        "If the slot is not in either list, print:\n",
        "\n",
        "\"Slot {slot} does not exist.\"\n",
        "\n",
        "Handles invalid input (non-integer) with an error message:\n",
        "\n",
        "\"Invalid input. Please enter a valid slot number.\"\n",
        "\n",
        "Expected Output:\n",
        "\n",
        "- Enter the parking slot number you want to reserve: 103\n",
        "\n",
        "    Slot 103 is reserved for you.\n",
        "\n",
        "- Enter the parking slot number you want to reserve: 107\n",
        "\n",
        "    Slot 107 is already reserved by someone else.\n",
        "\n",
        "- Enter the parking slot number you want to reserve: 999\n",
        "\n",
        "    Slot 999 does not exist.\n",
        "\n",
        "- Enter the parking slot number you want to reserve: abc\n",
        "\n",
        "  Invalid input. Please enter a valid slot number.\n"
      ]
    },
    {
      "cell_type": "code",
      "execution_count": 5,
      "id": "a99e6173-631a-4c7e-ad31-04cba55339cf",
      "metadata": {
        "id": "a99e6173-631a-4c7e-ad31-04cba55339cf",
        "colab": {
          "base_uri": "https://localhost:8080/"
        },
        "outputId": "a1787c82-b83a-4fdf-d312-15e449a4bfc7"
      },
      "outputs": [
        {
          "output_type": "stream",
          "name": "stdout",
          "text": [
            "Enter the parking slot number you want to reserve: 107\n",
            "Slot 107 is already reserved by someone else.\n",
            "\n",
            "\n",
            "Enter the parking slot number you want to reserve: 999\n",
            "Slot 999 does not exist.\n",
            "\n",
            "\n",
            "Enter the parking slot number you want to reserve: abc\n",
            "Invalid Input. Please enter a valid slot number.\n",
            "\n",
            "\n",
            "Enter the parking slot number you want to reserve: 103\n",
            "Slot 103 is reserved for you.\n"
          ]
        }
      ],
      "source": [
        "# Available and reserved slots\n",
        "available_slots = [101, 102, 103, 104, 105]\n",
        "reserved = [106, 107, 108, 109, 110]\n",
        "\n",
        "# Infinite loop until user reserves a valid slot\n",
        "while True:\n",
        "    try:\n",
        "        # Taking input for slot number\n",
        "        slot_number = int(input('Enter the parking slot number you want to reserve: '))\n",
        "\n",
        "        # If slot is available\n",
        "        if slot_number in available_slots:\n",
        "            print(f'Slot {slot_number} is reserved for you.')\n",
        "            break\n",
        "\n",
        "        # If slot is already reserved\n",
        "        elif slot_number in reserved:\n",
        "            print(f'Slot {slot_number} is already reserved by someone else.\\n')\n",
        "\n",
        "        # If slot doesn’t exist\n",
        "        else:\n",
        "            print(f'Slot {slot_number} does not exist.\\n')\n",
        "\n",
        "    # If user enters invalid input (not a number)\n",
        "    except ValueError:\n",
        "        print('Invalid Input. Please enter a valid slot number.\\n')"
      ]
    },
    {
      "cell_type": "code",
      "execution_count": null,
      "id": "c69b098c-daec-4a97-90cb-cce904132cf2",
      "metadata": {
        "id": "c69b098c-daec-4a97-90cb-cce904132cf2"
      },
      "outputs": [],
      "source": []
    },
    {
      "cell_type": "code",
      "execution_count": null,
      "id": "baaf38ea-efea-4b43-890a-a64ceeb4f538",
      "metadata": {
        "id": "baaf38ea-efea-4b43-890a-a64ceeb4f538"
      },
      "outputs": [],
      "source": []
    },
    {
      "cell_type": "code",
      "execution_count": null,
      "id": "7b1ec6ab-191d-440d-bb7a-aa4f35466399",
      "metadata": {
        "id": "7b1ec6ab-191d-440d-bb7a-aa4f35466399"
      },
      "outputs": [],
      "source": []
    }
  ],
  "metadata": {
    "kernelspec": {
      "display_name": "Python 3 (ipykernel)",
      "language": "python",
      "name": "python3"
    },
    "language_info": {
      "codemirror_mode": {
        "name": "ipython",
        "version": 3
      },
      "file_extension": ".py",
      "mimetype": "text/x-python",
      "name": "python",
      "nbconvert_exporter": "python",
      "pygments_lexer": "ipython3",
      "version": "3.12.7"
    },
    "colab": {
      "provenance": [],
      "toc_visible": true
    }
  },
  "nbformat": 4,
  "nbformat_minor": 5
}